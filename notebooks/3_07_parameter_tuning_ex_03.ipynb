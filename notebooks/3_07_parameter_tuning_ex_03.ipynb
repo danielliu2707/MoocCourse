{
 "cells": [
  {
   "cell_type": "markdown",
   "metadata": {},
   "source": [
    "# 📝 Exercise M3.02\n",
    "\n",
    "The goal is to find the best set of hyperparameters which maximize the\n",
    "generalization performance on a training set."
   ]
  },
  {
   "cell_type": "code",
   "execution_count": 1,
   "metadata": {},
   "outputs": [],
   "source": [
    "from sklearn.datasets import fetch_california_housing\n",
    "from sklearn.model_selection import train_test_split\n",
    "\n",
    "data, target = fetch_california_housing(return_X_y=True, as_frame=True)\n",
    "target *= 100  # rescale the target in k$\n",
    "\n",
    "data_train, data_test, target_train, target_test = train_test_split(\n",
    "    data, target, random_state=42\n",
    ")"
   ]
  },
  {
   "cell_type": "markdown",
   "metadata": {},
   "source": [
    "In this exercise, we progressively define the regression pipeline and later\n",
    "tune its hyperparameters.\n",
    "\n",
    "Start by defining a pipeline that:\n",
    "* uses a `StandardScaler` to normalize the numerical data;\n",
    "* uses a `sklearn.neighbors.KNeighborsRegressor` as a predictive model."
   ]
  },
  {
   "cell_type": "code",
   "execution_count": 2,
   "metadata": {},
   "outputs": [],
   "source": [
    "# Write your code here.\n",
    "from sklearn.preprocessing import StandardScaler\n",
    "from sklearn.neighbors import KNeighborsRegressor\n",
    "from sklearn.pipeline import make_pipeline\n",
    "\n",
    "model = make_pipeline(StandardScaler(), KNeighborsRegressor())"
   ]
  },
  {
   "cell_type": "markdown",
   "metadata": {},
   "source": [
    "Use `RandomizedSearchCV` with `n_iter=20` and\n",
    "`scoring=\"neg_mean_absolute_error\"` to tune the following hyperparameters\n",
    "of the `model`:\n",
    "\n",
    "- the parameter `n_neighbors` of the `KNeighborsRegressor` with values\n",
    "  `np.logspace(0, 3, num=10).astype(np.int32)`;\n",
    "- the parameter `with_mean` of the `StandardScaler` with possible values\n",
    "  `True` or `False`;\n",
    "- the parameter `with_std` of the `StandardScaler` with possible values `True`\n",
    "  or `False`.\n",
    "\n",
    "The `scoring` function is expected to return higher values for better models,\n",
    "since grid/random search objects **maximize** it. Because of that, error\n",
    "metrics like `mean_absolute_error` must be negated (using the `neg_` prefix)\n",
    "to work correctly (remember lower errors represent better models).\n",
    "\n",
    "Notice that in the notebook \"Hyperparameter tuning by randomized-search\" we\n",
    "pass distributions to be sampled by the `RandomizedSearchCV`. In this case we\n",
    "define a fixed grid of hyperparameters to be explored. Using a `GridSearchCV`\n",
    "instead would explore all the possible combinations on the grid, which can be\n",
    "costly to compute for large grids, whereas the parameter `n_iter` of the\n",
    "`RandomizedSearchCV` controls the number of different random combination that\n",
    "are evaluated. Notice that setting `n_iter` larger than the number of possible\n",
    "combinations in a grid (in this case 10 x 2 x 2 = 40) would lead to repeating\n",
    "already-explored combinations.\n",
    "\n",
    "Once the computation has completed, print the best combination of parameters\n",
    "stored in the `best_params_` attribute."
   ]
  },
  {
   "cell_type": "code",
   "execution_count": 8,
   "id": "f665a083",
   "metadata": {},
   "outputs": [
    {
     "name": "stdout",
     "output_type": "stream",
     "text": [
      "kneighborsregressor__algorithm\n",
      "kneighborsregressor__leaf_size\n",
      "kneighborsregressor__metric\n",
      "kneighborsregressor__metric_params\n",
      "kneighborsregressor__n_jobs\n",
      "kneighborsregressor__n_neighbors\n",
      "kneighborsregressor__p\n",
      "kneighborsregressor__weights\n",
      "standardscaler__copy\n",
      "standardscaler__with_mean\n",
      "standardscaler__with_std\n"
     ]
    }
   ],
   "source": [
    "for param in model.get_params():\n",
    "    print(param) if param.startswith(\"kneighborsregressor__\") else None\n",
    "    \n",
    "for param in model.get_params():\n",
    "    print(param) if param.startswith(\"standardscaler__\") else None"
   ]
  },
  {
   "cell_type": "code",
   "execution_count": null,
   "metadata": {},
   "outputs": [
    {
     "name": "stdout",
     "output_type": "stream",
     "text": [
      "Fitting 5 folds for each of 20 candidates, totalling 100 fits\n",
      "{'standardscaler__with_std': True, 'standardscaler__with_mean': False, 'kneighborsregressor__n_neighbors': np.int32(10)}\n"
     ]
    }
   ],
   "source": [
    "# Write your code here.\n",
    "from sklearn.model_selection import RandomizedSearchCV\n",
    "import numpy as np\n",
    "\n",
    "# define distribution/range of values randomised search hyperparams can take\n",
    "param_distribution = {\n",
    "    'kneighborsregressor__n_neighbors': np.logspace(0, 3, num=10).astype(np.int32),\n",
    "    'standardscaler__with_mean': [True, False],\n",
    "    'standardscaler__with_std': [True, False]\n",
    "}\n",
    "\n",
    "model_random_search = RandomizedSearchCV(\n",
    "    model,\n",
    "    param_distributions=param_distribution,\n",
    "    n_iter=20,\n",
    "    scoring=\"neg_mean_absolute_error\",\n",
    "    n_jobs=2,\n",
    "    verbose=1,   # affects outputted text\n",
    "    random_state=1,   # reproducible\n",
    ")\n",
    "\n",
    "# fit model, applying standard scaler to training data SEPARATE from testing data!!!\n",
    "model_random_search.fit(data_train, target_train)\n",
    "print(model_random_search.best_params_)\n",
    "\n"
   ]
  },
  {
   "cell_type": "markdown",
   "id": "321c0837",
   "metadata": {},
   "source": [
    "So the best hyperparameters give a model where the features are scaled but not\n",
    "centered.\n",
    "\n",
    "Getting the best parameter combinations is the main outcome of the\n",
    "hyper-parameter optimization procedure. However it is also interesting to\n",
    "assess the sensitivity of the best models to the choice of those parameters.\n",
    "The following code, not required to answer the quiz question shows how to\n",
    "conduct such an interactive analysis for this this pipeline using a parallel\n",
    "coordinate plot using the `plotly` library.\n",
    "\n",
    "### Assessing the sensitivity of the best models to the choice of those hyperparams:\n",
    "\n",
    "We could use `cv_results = model_random_search.cv_results_` to make a parallel\n",
    "coordinate plot as we did in the previous notebook (you are more than welcome\n",
    "to try!)."
   ]
  },
  {
   "cell_type": "code",
   "execution_count": 14,
   "id": "d30ddf2c",
   "metadata": {},
   "outputs": [],
   "source": [
    "import pandas as pd\n",
    "\n",
    "cv_results = pd.DataFrame(model_random_search.cv_results_)"
   ]
  },
  {
   "cell_type": "markdown",
   "id": "4d313446",
   "metadata": {},
   "source": [
    "As we used `neg_mean_absolute_error` as score metric, we should multiply the\n",
    "score results with minus 1 to get mean absolute error values:"
   ]
  },
  {
   "cell_type": "code",
   "execution_count": 15,
   "id": "a805863d",
   "metadata": {},
   "outputs": [],
   "source": [
    "cv_results[\"mean_test_score\"] *= -1"
   ]
  },
  {
   "cell_type": "markdown",
   "id": "b1939b4c",
   "metadata": {},
   "source": [
    "To simplify the axis of the plot, we rename the column of the dataframe and\n",
    "only select the mean test score and the value of the hyperparameters."
   ]
  },
  {
   "cell_type": "code",
   "execution_count": 16,
   "id": "4f8994e2",
   "metadata": {},
   "outputs": [],
   "source": [
    "column_name_mapping = {\n",
    "    \"param_kneighborsregressor__n_neighbors\": \"n_neighbors\",\n",
    "    \"param_standardscaler__with_mean\": \"centering\",\n",
    "    \"param_standardscaler__with_std\": \"scaling\",\n",
    "    \"mean_test_score\": \"mean test score\",\n",
    "}\n",
    "\n",
    "cv_results = cv_results.rename(columns=column_name_mapping)\n",
    "cv_results = cv_results[column_name_mapping.values()].sort_values(\n",
    "    \"mean test score\"\n",
    ")"
   ]
  },
  {
   "cell_type": "markdown",
   "id": "53eb6d31",
   "metadata": {},
   "source": [
    "In addition, the parallel coordinate plot from `plotly` expects all data to be\n",
    "numeric. Thus, we convert the boolean indicator informing whether or not the\n",
    "data were centered or scaled into an integer, where True is mapped to 1 and\n",
    "False is mapped to 0. As `n_neighbors` has `dtype=object`, we also convert it\n",
    "explicitly to an integer."
   ]
  },
  {
   "cell_type": "code",
   "execution_count": 17,
   "id": "e9d66160",
   "metadata": {},
   "outputs": [
    {
     "data": {
      "text/html": [
       "<div>\n",
       "<style scoped>\n",
       "    .dataframe tbody tr th:only-of-type {\n",
       "        vertical-align: middle;\n",
       "    }\n",
       "\n",
       "    .dataframe tbody tr th {\n",
       "        vertical-align: top;\n",
       "    }\n",
       "\n",
       "    .dataframe thead th {\n",
       "        text-align: right;\n",
       "    }\n",
       "</style>\n",
       "<table border=\"1\" class=\"dataframe\">\n",
       "  <thead>\n",
       "    <tr style=\"text-align: right;\">\n",
       "      <th></th>\n",
       "      <th>n_neighbors</th>\n",
       "      <th>centering</th>\n",
       "      <th>scaling</th>\n",
       "      <th>mean test score</th>\n",
       "    </tr>\n",
       "  </thead>\n",
       "  <tbody>\n",
       "    <tr>\n",
       "      <th>17</th>\n",
       "      <td>10</td>\n",
       "      <td>0</td>\n",
       "      <td>1</td>\n",
       "      <td>44.508787</td>\n",
       "    </tr>\n",
       "    <tr>\n",
       "      <th>18</th>\n",
       "      <td>4</td>\n",
       "      <td>0</td>\n",
       "      <td>1</td>\n",
       "      <td>45.003390</td>\n",
       "    </tr>\n",
       "    <tr>\n",
       "      <th>6</th>\n",
       "      <td>46</td>\n",
       "      <td>0</td>\n",
       "      <td>1</td>\n",
       "      <td>46.866563</td>\n",
       "    </tr>\n",
       "    <tr>\n",
       "      <th>16</th>\n",
       "      <td>2</td>\n",
       "      <td>1</td>\n",
       "      <td>1</td>\n",
       "      <td>47.447982</td>\n",
       "    </tr>\n",
       "    <tr>\n",
       "      <th>9</th>\n",
       "      <td>100</td>\n",
       "      <td>0</td>\n",
       "      <td>1</td>\n",
       "      <td>49.085871</td>\n",
       "    </tr>\n",
       "    <tr>\n",
       "      <th>15</th>\n",
       "      <td>215</td>\n",
       "      <td>1</td>\n",
       "      <td>1</td>\n",
       "      <td>52.127201</td>\n",
       "    </tr>\n",
       "    <tr>\n",
       "      <th>12</th>\n",
       "      <td>215</td>\n",
       "      <td>0</td>\n",
       "      <td>1</td>\n",
       "      <td>52.127201</td>\n",
       "    </tr>\n",
       "    <tr>\n",
       "      <th>0</th>\n",
       "      <td>1</td>\n",
       "      <td>0</td>\n",
       "      <td>1</td>\n",
       "      <td>53.636768</td>\n",
       "    </tr>\n",
       "    <tr>\n",
       "      <th>10</th>\n",
       "      <td>464</td>\n",
       "      <td>1</td>\n",
       "      <td>1</td>\n",
       "      <td>56.570102</td>\n",
       "    </tr>\n",
       "    <tr>\n",
       "      <th>13</th>\n",
       "      <td>1000</td>\n",
       "      <td>1</td>\n",
       "      <td>1</td>\n",
       "      <td>62.795099</td>\n",
       "    </tr>\n",
       "    <tr>\n",
       "      <th>8</th>\n",
       "      <td>21</td>\n",
       "      <td>0</td>\n",
       "      <td>0</td>\n",
       "      <td>85.228801</td>\n",
       "    </tr>\n",
       "    <tr>\n",
       "      <th>11</th>\n",
       "      <td>21</td>\n",
       "      <td>1</td>\n",
       "      <td>0</td>\n",
       "      <td>85.228801</td>\n",
       "    </tr>\n",
       "    <tr>\n",
       "      <th>3</th>\n",
       "      <td>46</td>\n",
       "      <td>1</td>\n",
       "      <td>0</td>\n",
       "      <td>87.666425</td>\n",
       "    </tr>\n",
       "    <tr>\n",
       "      <th>4</th>\n",
       "      <td>100</td>\n",
       "      <td>0</td>\n",
       "      <td>0</td>\n",
       "      <td>89.291777</td>\n",
       "    </tr>\n",
       "    <tr>\n",
       "      <th>5</th>\n",
       "      <td>215</td>\n",
       "      <td>1</td>\n",
       "      <td>0</td>\n",
       "      <td>90.228605</td>\n",
       "    </tr>\n",
       "    <tr>\n",
       "      <th>1</th>\n",
       "      <td>215</td>\n",
       "      <td>0</td>\n",
       "      <td>0</td>\n",
       "      <td>90.228605</td>\n",
       "    </tr>\n",
       "    <tr>\n",
       "      <th>14</th>\n",
       "      <td>464</td>\n",
       "      <td>1</td>\n",
       "      <td>0</td>\n",
       "      <td>90.784404</td>\n",
       "    </tr>\n",
       "    <tr>\n",
       "      <th>19</th>\n",
       "      <td>464</td>\n",
       "      <td>0</td>\n",
       "      <td>0</td>\n",
       "      <td>90.784404</td>\n",
       "    </tr>\n",
       "    <tr>\n",
       "      <th>7</th>\n",
       "      <td>1000</td>\n",
       "      <td>0</td>\n",
       "      <td>0</td>\n",
       "      <td>91.177257</td>\n",
       "    </tr>\n",
       "    <tr>\n",
       "      <th>2</th>\n",
       "      <td>1</td>\n",
       "      <td>0</td>\n",
       "      <td>0</td>\n",
       "      <td>96.508904</td>\n",
       "    </tr>\n",
       "  </tbody>\n",
       "</table>\n",
       "</div>"
      ],
      "text/plain": [
       "    n_neighbors  centering  scaling  mean test score\n",
       "17           10          0        1        44.508787\n",
       "18            4          0        1        45.003390\n",
       "6            46          0        1        46.866563\n",
       "16            2          1        1        47.447982\n",
       "9           100          0        1        49.085871\n",
       "15          215          1        1        52.127201\n",
       "12          215          0        1        52.127201\n",
       "0             1          0        1        53.636768\n",
       "10          464          1        1        56.570102\n",
       "13         1000          1        1        62.795099\n",
       "8            21          0        0        85.228801\n",
       "11           21          1        0        85.228801\n",
       "3            46          1        0        87.666425\n",
       "4           100          0        0        89.291777\n",
       "5           215          1        0        90.228605\n",
       "1           215          0        0        90.228605\n",
       "14          464          1        0        90.784404\n",
       "19          464          0        0        90.784404\n",
       "7          1000          0        0        91.177257\n",
       "2             1          0        0        96.508904"
      ]
     },
     "execution_count": 17,
     "metadata": {},
     "output_type": "execute_result"
    }
   ],
   "source": [
    "column_scaler = [\"centering\", \"scaling\"]\n",
    "cv_results[column_scaler] = cv_results[column_scaler].astype(np.int64)\n",
    "cv_results[\"n_neighbors\"] = cv_results[\"n_neighbors\"].astype(np.int64)\n",
    "cv_results"
   ]
  },
  {
   "cell_type": "code",
   "execution_count": null,
   "id": "aeb690aa",
   "metadata": {},
   "outputs": [
    {
     "data": {
      "application/vnd.plotly.v1+json": {
       "config": {
        "plotlyServerURL": "https://plot.ly"
       },
       "data": [
        {
         "dimensions": [
          {
           "label": "n_neighbors",
           "values": {
            "bdata": "CgAEAC4AAgBkANcA1wABANAB6AMVABUALgBkANcA1wDQAdAB6AMBAA==",
            "dtype": "i2"
           }
          },
          {
           "label": "centering",
           "values": {
            "bdata": "AAAAAQABAAABAQABAQABAAEAAAA=",
            "dtype": "i1"
           }
          },
          {
           "label": "scaling",
           "values": {
            "bdata": "AQEBAQEBAQEBAQAAAAAAAAAAAAA=",
            "dtype": "i1"
           }
          },
          {
           "label": "mean test score",
           "values": {
            "bdata": "yeUW6x9BRkBSdQAVb4BGQDxLhIvrbkdA5eyhe1e5R0BdvrrR/YpIQPBHZSJIEEpA8EdlIkgQSkAWmyqbgdFKQEujyxr5SExAMup0ysVlT0AKgqirpE5VQAqCqKukTlVAXiMatabqVUBqrMJ6rFJWQK4EeXahjlZArgR5dqGOVkB6apGuM7JWQHpqka4zslZAZrRdL1jLVkD1HGDikSBYQA==",
            "dtype": "f8"
           }
          }
         ],
         "domain": {
          "x": [
           0,
           1
          ],
          "y": [
           0,
           1
          ]
         },
         "line": {
          "color": {
           "bdata": "yeUW6x9BRkBSdQAVb4BGQDxLhIvrbkdA5eyhe1e5R0BdvrrR/YpIQPBHZSJIEEpA8EdlIkgQSkAWmyqbgdFKQEujyxr5SExAMup0ysVlT0AKgqirpE5VQAqCqKukTlVAXiMatabqVUBqrMJ6rFJWQK4EeXahjlZArgR5dqGOVkB6apGuM7JWQHpqka4zslZAZrRdL1jLVkD1HGDikSBYQA==",
           "dtype": "f8"
          },
          "coloraxis": "coloraxis"
         },
         "name": "",
         "type": "parcoords"
        }
       ],
       "layout": {
        "coloraxis": {
         "colorbar": {
          "title": {
           "text": "mean test score"
          }
         },
         "colorscale": [
          [
           0,
           "rgb(0, 147, 146)"
          ],
          [
           0.16666666666666666,
           "rgb(114, 170, 161)"
          ],
          [
           0.3333333333333333,
           "rgb(177, 199, 179)"
          ],
          [
           0.5,
           "rgb(241, 234, 200)"
          ],
          [
           0.6666666666666666,
           "rgb(229, 185, 173)"
          ],
          [
           0.8333333333333334,
           "rgb(217, 137, 148)"
          ],
          [
           1,
           "rgb(208, 88, 126)"
          ]
         ]
        },
        "legend": {
         "tracegroupgap": 0
        },
        "margin": {
         "t": 60
        },
        "template": {
         "data": {
          "bar": [
           {
            "error_x": {
             "color": "#2a3f5f"
            },
            "error_y": {
             "color": "#2a3f5f"
            },
            "marker": {
             "line": {
              "color": "#E5ECF6",
              "width": 0.5
             },
             "pattern": {
              "fillmode": "overlay",
              "size": 10,
              "solidity": 0.2
             }
            },
            "type": "bar"
           }
          ],
          "barpolar": [
           {
            "marker": {
             "line": {
              "color": "#E5ECF6",
              "width": 0.5
             },
             "pattern": {
              "fillmode": "overlay",
              "size": 10,
              "solidity": 0.2
             }
            },
            "type": "barpolar"
           }
          ],
          "carpet": [
           {
            "aaxis": {
             "endlinecolor": "#2a3f5f",
             "gridcolor": "white",
             "linecolor": "white",
             "minorgridcolor": "white",
             "startlinecolor": "#2a3f5f"
            },
            "baxis": {
             "endlinecolor": "#2a3f5f",
             "gridcolor": "white",
             "linecolor": "white",
             "minorgridcolor": "white",
             "startlinecolor": "#2a3f5f"
            },
            "type": "carpet"
           }
          ],
          "choropleth": [
           {
            "colorbar": {
             "outlinewidth": 0,
             "ticks": ""
            },
            "type": "choropleth"
           }
          ],
          "contour": [
           {
            "colorbar": {
             "outlinewidth": 0,
             "ticks": ""
            },
            "colorscale": [
             [
              0,
              "#0d0887"
             ],
             [
              0.1111111111111111,
              "#46039f"
             ],
             [
              0.2222222222222222,
              "#7201a8"
             ],
             [
              0.3333333333333333,
              "#9c179e"
             ],
             [
              0.4444444444444444,
              "#bd3786"
             ],
             [
              0.5555555555555556,
              "#d8576b"
             ],
             [
              0.6666666666666666,
              "#ed7953"
             ],
             [
              0.7777777777777778,
              "#fb9f3a"
             ],
             [
              0.8888888888888888,
              "#fdca26"
             ],
             [
              1,
              "#f0f921"
             ]
            ],
            "type": "contour"
           }
          ],
          "contourcarpet": [
           {
            "colorbar": {
             "outlinewidth": 0,
             "ticks": ""
            },
            "type": "contourcarpet"
           }
          ],
          "heatmap": [
           {
            "colorbar": {
             "outlinewidth": 0,
             "ticks": ""
            },
            "colorscale": [
             [
              0,
              "#0d0887"
             ],
             [
              0.1111111111111111,
              "#46039f"
             ],
             [
              0.2222222222222222,
              "#7201a8"
             ],
             [
              0.3333333333333333,
              "#9c179e"
             ],
             [
              0.4444444444444444,
              "#bd3786"
             ],
             [
              0.5555555555555556,
              "#d8576b"
             ],
             [
              0.6666666666666666,
              "#ed7953"
             ],
             [
              0.7777777777777778,
              "#fb9f3a"
             ],
             [
              0.8888888888888888,
              "#fdca26"
             ],
             [
              1,
              "#f0f921"
             ]
            ],
            "type": "heatmap"
           }
          ],
          "histogram": [
           {
            "marker": {
             "pattern": {
              "fillmode": "overlay",
              "size": 10,
              "solidity": 0.2
             }
            },
            "type": "histogram"
           }
          ],
          "histogram2d": [
           {
            "colorbar": {
             "outlinewidth": 0,
             "ticks": ""
            },
            "colorscale": [
             [
              0,
              "#0d0887"
             ],
             [
              0.1111111111111111,
              "#46039f"
             ],
             [
              0.2222222222222222,
              "#7201a8"
             ],
             [
              0.3333333333333333,
              "#9c179e"
             ],
             [
              0.4444444444444444,
              "#bd3786"
             ],
             [
              0.5555555555555556,
              "#d8576b"
             ],
             [
              0.6666666666666666,
              "#ed7953"
             ],
             [
              0.7777777777777778,
              "#fb9f3a"
             ],
             [
              0.8888888888888888,
              "#fdca26"
             ],
             [
              1,
              "#f0f921"
             ]
            ],
            "type": "histogram2d"
           }
          ],
          "histogram2dcontour": [
           {
            "colorbar": {
             "outlinewidth": 0,
             "ticks": ""
            },
            "colorscale": [
             [
              0,
              "#0d0887"
             ],
             [
              0.1111111111111111,
              "#46039f"
             ],
             [
              0.2222222222222222,
              "#7201a8"
             ],
             [
              0.3333333333333333,
              "#9c179e"
             ],
             [
              0.4444444444444444,
              "#bd3786"
             ],
             [
              0.5555555555555556,
              "#d8576b"
             ],
             [
              0.6666666666666666,
              "#ed7953"
             ],
             [
              0.7777777777777778,
              "#fb9f3a"
             ],
             [
              0.8888888888888888,
              "#fdca26"
             ],
             [
              1,
              "#f0f921"
             ]
            ],
            "type": "histogram2dcontour"
           }
          ],
          "mesh3d": [
           {
            "colorbar": {
             "outlinewidth": 0,
             "ticks": ""
            },
            "type": "mesh3d"
           }
          ],
          "parcoords": [
           {
            "line": {
             "colorbar": {
              "outlinewidth": 0,
              "ticks": ""
             }
            },
            "type": "parcoords"
           }
          ],
          "pie": [
           {
            "automargin": true,
            "type": "pie"
           }
          ],
          "scatter": [
           {
            "fillpattern": {
             "fillmode": "overlay",
             "size": 10,
             "solidity": 0.2
            },
            "type": "scatter"
           }
          ],
          "scatter3d": [
           {
            "line": {
             "colorbar": {
              "outlinewidth": 0,
              "ticks": ""
             }
            },
            "marker": {
             "colorbar": {
              "outlinewidth": 0,
              "ticks": ""
             }
            },
            "type": "scatter3d"
           }
          ],
          "scattercarpet": [
           {
            "marker": {
             "colorbar": {
              "outlinewidth": 0,
              "ticks": ""
             }
            },
            "type": "scattercarpet"
           }
          ],
          "scattergeo": [
           {
            "marker": {
             "colorbar": {
              "outlinewidth": 0,
              "ticks": ""
             }
            },
            "type": "scattergeo"
           }
          ],
          "scattergl": [
           {
            "marker": {
             "colorbar": {
              "outlinewidth": 0,
              "ticks": ""
             }
            },
            "type": "scattergl"
           }
          ],
          "scattermap": [
           {
            "marker": {
             "colorbar": {
              "outlinewidth": 0,
              "ticks": ""
             }
            },
            "type": "scattermap"
           }
          ],
          "scattermapbox": [
           {
            "marker": {
             "colorbar": {
              "outlinewidth": 0,
              "ticks": ""
             }
            },
            "type": "scattermapbox"
           }
          ],
          "scatterpolar": [
           {
            "marker": {
             "colorbar": {
              "outlinewidth": 0,
              "ticks": ""
             }
            },
            "type": "scatterpolar"
           }
          ],
          "scatterpolargl": [
           {
            "marker": {
             "colorbar": {
              "outlinewidth": 0,
              "ticks": ""
             }
            },
            "type": "scatterpolargl"
           }
          ],
          "scatterternary": [
           {
            "marker": {
             "colorbar": {
              "outlinewidth": 0,
              "ticks": ""
             }
            },
            "type": "scatterternary"
           }
          ],
          "surface": [
           {
            "colorbar": {
             "outlinewidth": 0,
             "ticks": ""
            },
            "colorscale": [
             [
              0,
              "#0d0887"
             ],
             [
              0.1111111111111111,
              "#46039f"
             ],
             [
              0.2222222222222222,
              "#7201a8"
             ],
             [
              0.3333333333333333,
              "#9c179e"
             ],
             [
              0.4444444444444444,
              "#bd3786"
             ],
             [
              0.5555555555555556,
              "#d8576b"
             ],
             [
              0.6666666666666666,
              "#ed7953"
             ],
             [
              0.7777777777777778,
              "#fb9f3a"
             ],
             [
              0.8888888888888888,
              "#fdca26"
             ],
             [
              1,
              "#f0f921"
             ]
            ],
            "type": "surface"
           }
          ],
          "table": [
           {
            "cells": {
             "fill": {
              "color": "#EBF0F8"
             },
             "line": {
              "color": "white"
             }
            },
            "header": {
             "fill": {
              "color": "#C8D4E3"
             },
             "line": {
              "color": "white"
             }
            },
            "type": "table"
           }
          ]
         },
         "layout": {
          "annotationdefaults": {
           "arrowcolor": "#2a3f5f",
           "arrowhead": 0,
           "arrowwidth": 1
          },
          "autotypenumbers": "strict",
          "coloraxis": {
           "colorbar": {
            "outlinewidth": 0,
            "ticks": ""
           }
          },
          "colorscale": {
           "diverging": [
            [
             0,
             "#8e0152"
            ],
            [
             0.1,
             "#c51b7d"
            ],
            [
             0.2,
             "#de77ae"
            ],
            [
             0.3,
             "#f1b6da"
            ],
            [
             0.4,
             "#fde0ef"
            ],
            [
             0.5,
             "#f7f7f7"
            ],
            [
             0.6,
             "#e6f5d0"
            ],
            [
             0.7,
             "#b8e186"
            ],
            [
             0.8,
             "#7fbc41"
            ],
            [
             0.9,
             "#4d9221"
            ],
            [
             1,
             "#276419"
            ]
           ],
           "sequential": [
            [
             0,
             "#0d0887"
            ],
            [
             0.1111111111111111,
             "#46039f"
            ],
            [
             0.2222222222222222,
             "#7201a8"
            ],
            [
             0.3333333333333333,
             "#9c179e"
            ],
            [
             0.4444444444444444,
             "#bd3786"
            ],
            [
             0.5555555555555556,
             "#d8576b"
            ],
            [
             0.6666666666666666,
             "#ed7953"
            ],
            [
             0.7777777777777778,
             "#fb9f3a"
            ],
            [
             0.8888888888888888,
             "#fdca26"
            ],
            [
             1,
             "#f0f921"
            ]
           ],
           "sequentialminus": [
            [
             0,
             "#0d0887"
            ],
            [
             0.1111111111111111,
             "#46039f"
            ],
            [
             0.2222222222222222,
             "#7201a8"
            ],
            [
             0.3333333333333333,
             "#9c179e"
            ],
            [
             0.4444444444444444,
             "#bd3786"
            ],
            [
             0.5555555555555556,
             "#d8576b"
            ],
            [
             0.6666666666666666,
             "#ed7953"
            ],
            [
             0.7777777777777778,
             "#fb9f3a"
            ],
            [
             0.8888888888888888,
             "#fdca26"
            ],
            [
             1,
             "#f0f921"
            ]
           ]
          },
          "colorway": [
           "#636efa",
           "#EF553B",
           "#00cc96",
           "#ab63fa",
           "#FFA15A",
           "#19d3f3",
           "#FF6692",
           "#B6E880",
           "#FF97FF",
           "#FECB52"
          ],
          "font": {
           "color": "#2a3f5f"
          },
          "geo": {
           "bgcolor": "white",
           "lakecolor": "white",
           "landcolor": "#E5ECF6",
           "showlakes": true,
           "showland": true,
           "subunitcolor": "white"
          },
          "hoverlabel": {
           "align": "left"
          },
          "hovermode": "closest",
          "mapbox": {
           "style": "light"
          },
          "paper_bgcolor": "white",
          "plot_bgcolor": "#E5ECF6",
          "polar": {
           "angularaxis": {
            "gridcolor": "white",
            "linecolor": "white",
            "ticks": ""
           },
           "bgcolor": "#E5ECF6",
           "radialaxis": {
            "gridcolor": "white",
            "linecolor": "white",
            "ticks": ""
           }
          },
          "scene": {
           "xaxis": {
            "backgroundcolor": "#E5ECF6",
            "gridcolor": "white",
            "gridwidth": 2,
            "linecolor": "white",
            "showbackground": true,
            "ticks": "",
            "zerolinecolor": "white"
           },
           "yaxis": {
            "backgroundcolor": "#E5ECF6",
            "gridcolor": "white",
            "gridwidth": 2,
            "linecolor": "white",
            "showbackground": true,
            "ticks": "",
            "zerolinecolor": "white"
           },
           "zaxis": {
            "backgroundcolor": "#E5ECF6",
            "gridcolor": "white",
            "gridwidth": 2,
            "linecolor": "white",
            "showbackground": true,
            "ticks": "",
            "zerolinecolor": "white"
           }
          },
          "shapedefaults": {
           "line": {
            "color": "#2a3f5f"
           }
          },
          "ternary": {
           "aaxis": {
            "gridcolor": "white",
            "linecolor": "white",
            "ticks": ""
           },
           "baxis": {
            "gridcolor": "white",
            "linecolor": "white",
            "ticks": ""
           },
           "bgcolor": "#E5ECF6",
           "caxis": {
            "gridcolor": "white",
            "linecolor": "white",
            "ticks": ""
           }
          },
          "title": {
           "x": 0.05
          },
          "xaxis": {
           "automargin": true,
           "gridcolor": "white",
           "linecolor": "white",
           "ticks": "",
           "title": {
            "standoff": 15
           },
           "zerolinecolor": "white",
           "zerolinewidth": 2
          },
          "yaxis": {
           "automargin": true,
           "gridcolor": "white",
           "linecolor": "white",
           "ticks": "",
           "title": {
            "standoff": 15
           },
           "zerolinecolor": "white",
           "zerolinewidth": 2
          }
         }
        }
       }
      }
     },
     "metadata": {},
     "output_type": "display_data"
    }
   ],
   "source": [
    "import plotly.express as px\n",
    "\n",
    "fig = px.parallel_coordinates(\n",
    "    cv_results,\n",
    "    color=\"mean test score\",\n",
    "    dimensions=[\"n_neighbors\", \"centering\", \"scaling\", \"mean test score\"],\n",
    "    color_continuous_scale=px.colors.diverging.Tealrose,\n",
    ")\n",
    "fig.show()"
   ]
  },
  {
   "cell_type": "markdown",
   "id": "7d629b41",
   "metadata": {},
   "source": [
    "We recall that it is possible to select a range of results by clicking and\n",
    "holding on any axis of the parallel coordinate plot. You can then slide (move)\n",
    "the range selection and cross two selections to see the intersections.\n",
    "\n",
    "Selecting the best performing models (i.e. below MEA score of ~47 k$), we\n",
    "observe that **in this case**:\n",
    "\n",
    "- scaling the data is important. All the best performing models use scaled\n",
    "  features;\n",
    "- centering the data does not have a strong impact. Both approaches, centering\n",
    "  and not centering, can lead to good models;\n",
    "- using some neighbors is fine but using too many is a problem. In particular\n",
    "  no pipeline with `n_neighbors=1` can be found among the best models.\n",
    "  However, scaling features has an even stronger impact than the choice of\n",
    "  `n_neighbors` in this problem.\n",
    "\n",
    "The reason is that fitting scaled data leads to a completely different\n",
    "KNeighbors model:  if you have two variables A and B where A has values which\n",
    "vary between 0 and 10,000 (e.g. the variable `\"Population\"`) and B is a\n",
    "feature that varies between 1 and 10 (e.g. the variable `\"AveRooms\"`), then\n",
    "distances between samples (rows of the dataframe) are mostly impacted by\n",
    "differences in values of the column A, while values of the column B are\n",
    "comparatively ignored. If one applies StandardScaler to such a database, both\n",
    "the values of A and B will be approximately between -3 and 3 and the neighbor\n",
    "structure will be impacted more or less equivalently by both variables.\n",
    "\n",
    "Note that **in this case** the models with scaled features perform better than\n",
    "the models with non-scaled features because all the variables are expected to\n",
    "be predictive and we rather avoid some of them being comparatively ignored.\n",
    "\n",
    "If the variables in lower scales were not predictive one may experience a\n",
    "decrease of the performance after scaling the features: noisy features would\n",
    "contribute more to the prediction after scaling and therefore scaling would\n",
    "increase overfitting."
   ]
  },
  {
   "cell_type": "code",
   "execution_count": 19,
   "id": "0c72d6f7",
   "metadata": {},
   "outputs": [
    {
     "data": {
      "application/vnd.plotly.v1+json": {
       "config": {
        "plotlyServerURL": "https://plot.ly"
       },
       "data": [
        {
         "dimensions": [
          {
           "label": "learning_rate",
           "values": {
            "bdata": "33O13O2c0L8h6bQNgYYHwCQGFwQK9ALAZeLsAocTB8BM5ZRBoXTnPx/LRjdsF9M/VBD6YGPB4T9JSJzwz3nVPyU2ls6E+eW/wOHRUj2VBMAHzICuZcr6v2lLM+JsItu/JJBn776q6T8+nGZf9gf0vxxT5LuCA+E/4xwzwY4FBMBRs+bkAUPEv1W/0M151QHArjZX55+q8b+UTPVH+RgCwDBhq0oXFva/y5s1dtjP8b/jK8KICAQBwFxvJXs73+A/0Ux85StoAMDcUp0u0nLoP44ZeZSYuPi/8oYrKCq6679iP+vP3yC9vy6CvK2Z9e6/kKyXWS985T/UOUDFmLXgP2LGe98Bd+2/+04Aq0n6B8AwSryr+ELkv4fvXWlJI9G/8fNF7Kz4A8DHsoNrOBkGwLYn+2LVUwLA6oIXhYkLAMA4u569wQfov0xmBqQ9MgDA7H1GUvZ87r8dAyqQglLkv0hSdiJ/IOA/dt7kix8g8794EMO4jH3qv9k3hwur1vm/XKJtG+dH+79MZ3AuLMrrP+NWraP3kwHAvWtQamqurr/Ddq9ALZTvP5LVBifKpwLAoQADv/xvwT8o7N/zg8HmPwNvHdwYwQHAJAzuhmTP5T8oeVRJtL/gPxXQ1kkBN/e/ODFomqQF4j8tew9yCY8EwConsGw48ALAsYnZiKGfBsBMDwIWtZrnv82CpiciqOO/Y0sPcbT39b+xoap7OLXdv4ATC3uxG7q/ICgD04FL4r/8lh7625/iv//EF/BHr8u/xGRd26VBAcBpbyVx7QLkv7MmCOrbLQfAj0aDe2RCzb9ApWvVURbgv/cktzBg0gfASHDyBQXc0L/2mDBExoT/v5DW0rA6NPC/FIWRqAY7BMDE2FDGLEn+v7RAz99Y+QfAoGTtIXNq6j9gZrI38KjRP8AABoxIUQDAg6qCYUBE+r9oLAVa4H3iP6lYpH/u3AfAiACEuSIZ1r8y/AAKNlsHwC3E71fI5/y/dQbXuzsQB8BnGx05XLr8vzldQmHovQbAwHfudsjC1T860yMdv2gDwEBsvl123Ow/mKtzMckA/b+IQvY7eEPnP3YrSjYxRf+//Uv7VVe7AMBQaFt0HR/Ov0cMuuRqOPC/6Vyzg9Ge378mEI3ZjfoEwMYnI6A+5QfAHyelEtRBA8BolBZoHH7iP5vS68UVnvu/hP/FwVuAsz998JVbpNvlv96wP3306ei/TbA78xoaA8AfiUsZpNnfv6LUa6Tq4/+/5qTrcSrh8L9B9mQSBpfFv9X7Vxl8igDAMQs4flzOxD9Uxuz/nMvlv+vrEtXCh/C/CFAapNM74T/BMT04lkDLPwBJKKuOJte/k0ndAOch7z/8H8gkY2HivxAAKsfn7Pq/vN23x2ViB8DYLAW+6DnfPx/PWi6iE84/V3wDhdHb9b+tDKMBwjoCwDj8lHQqNe4/iB9GsAB17j9RbWlCIzAGwE5Od0+mHAXAUVjimkwU2r+3BQXqcgsDwJD28lvxEMg/ZK0RKkWmAsDDG9fGROYAwAASsSsn0c2/bTPMCB6R9r/9zxXNe3UFwMBBhOa8WMG/vL1+nKK4AcB9yso9vHTkv6zZB5pW6OY/VWG4EZ1IBMBRztn7dyXDP5waMsKhCe4/YWo5WdzDy7/4mfgKqAnYv6U+SYtp7+S/hzvjssmn0j/0YoIDaLf8vwAjsBZMgwPAtBG+n4tl8L9BBMJi4a3Yv82c1S9wWwDAp44MLIoR779ksJJJNKzlv+yzTtqiO/W/YHFqvX4dyT8//ncDRLrVv7RZ6WnEJ+Y/WwwaR1q2AcDTRTzKMdj6v1+FA+TLarS/ubaA5ISSB8AK76uii30AwGcgI+7wkdg/qVGC/P+RBsAYu54J4GgHwIUbYxKz4pa/eTN2d0aG07+a9x4Qsmn4v4zwtCVYFuQ/Up7kg5cHBMCeGsy4B5u2v6e3mA4e3++/EK7gdx954z9egFSujRSzvxEJqDpyG8E/XhHQZhaaB8Ajgs6aLTGzv7+fCd9pF/O/DpvUgkQN9b920XwfGcwDwC8tJZ1slsg/CIfXR4266r/oWYuTBUznP/PHzjw4fwDAAd9oJTZr5L/0rEUOSdzxv8DyWvhsQ8o/GJ9qOmdi0T+fuEFcZa7bP2jFXl8OcOk/K2rl+K8ABsBYolO3yyjgv0R2n9KXtfi/YANquqmQ+r+By6kUtvG/v0w3jIbr7ATAcdNrxh2e1D+if03K9djxv80QzyHDWQLA0Igrqk1w1j8o1De9l4LtPw2JJTR32uK/feqWAmTps7+7sqv7n10FwLDqw0k9qOW/laIOEpQS6r/9LieHBazPv/yPvz73rva/QF6A/oUc2T+kzhqU3Krvv4h2Hmbgg+K/i1DXTsMbAMDSC6ams2jIP3NIRBmM/QHAlMpiqw2R7z+ghiCFpP3dP2GuJti2a9o/mzjZ91XM9b9ii8R95y+Yv1HJvqczceu/PvpbtVQg8b/wM2OWvvfvP7wJHwV4LADAGhJrJA0f7r86eOaOych3P3zlDAydUes/yWD0Dtfj2j9w20NroEblPzF0POfPUOC/gX6iw4jX1D+H1QAwZZsCwH9c7Uzm8tW/aIyl3MJz3j+wV/ktl0DbPwMd+LSn56Y/uJl9N1j95T8tESkdZo39v5FO/OgQ1wfAP5BK4xywvD/YI63+3aHnv7svSGrorQLA8iWMx9De7b83iDcgdSzTP3HQFSHYGQPAYTy6HmKYwr9J7zJqzO7jv9IdmR4bCAHAyJCabZXn6T/43+LkQWICwIubLwt+1gHAm17xEPEEmz+jKiyOJIi4P7h8p8B+TNk/+A6xyuHW4T8mw4JYcR/qv9JURd8c4QHAOHI/M6Dc0D8If6qYBGrtP5EG7MbMPuc/Diw6yYB38r8p4tFIs3L6v+S2O1BDa+Y/MtT79OjaAcAEo31cogX2v1eaBKqaQ9k/2HXKzgxC4j+B8cdyQ6r1v4FX1aImC9M/TDiKIHFG8r9QEdjPDSLQv9Dpcbyv/NO/QY8z+QQu4794cjeUZKL2vy6n9y+CFeq/8Bv1MCSlzT/wYYlr4Ej6v2335TwtjvC/T6E84jGqB8ASVSU+Vb8GwAJlphvnIgDAANm9OK5j5D9LMFFTdcEHwADt1bgvO9Y/P2ZkHSEwAMAgXCY9th/jv50I+b7vEfC/7WIfO48QBcBwlAIY8aMFwGmTiliyxtW/dLCl8EpV5b947Y5NqcHoP2GZim/1pue/jbEVq1RxAMBUozg4E136vw7AYQgtM8A/XC1X4BGQ7r+9mnV/O2z+vwB93uMYE8Q/S4NfBzQs8L9wDhIyjgrovyim4c/cN+8/OsUk1gxp5r8Z0RHQgA34v1am8slSwPu/DBePVEsMAsBZ69iVvxjzv2n7OxtuAfa/sQu4qWyOBMCfmXupQojNv1SdjBFW5wXAQIEuITVd+78LP/Wto9sBwEBNBSLnju8/Jav42QY0/r99j9Ho8im4P8StZH2ScO6/9ydNVfHy9r/Qph1+o7/kvx1UgBh0Yvm/ra9+IBM6AMD5VP63aVv/v2bWCJr1ZwfA/pUO6J7a978Y5UpT7vDjP61vfbVhJ+K/iLspC7VL47/hBohx/O/Bvw633arSG/i/foCt9RfBwz/KtsQjvWb5vyQl1H1cVOK/ohjeClU3BsBtW5XRLZPjv8zYMBoJOes/wBjrfpMMyL/QfQagkIzaP5nxRYzKat2/eeF7G/nN2r+rtRH96LH3v9nPK6DroQHAUhsyDmxS3793rw9+7lkDwDSTX+NpGOs/ebm+DMbT57/9BceHj0kAwLpTwGVg2wHAWQy9S5c53z/zX5ddy1UBwHlrVuh/dee/t5aBrAnx1b9+6JYeUGuTvz0eU8SGxQHAgOqtwM8o+r/hJuBOwirWv+Cpnw+GtN8/UFT55zwCxz8X7HYyDokCwAThBpDOiui/ERCCiODK0z9lCxxdAZsEwJR1EfH/2vm//Ktshqbhrz/K0eDaUej4v97IFmvdI/2/CjB7KrrJBcCNwO5yKrYEwIK4/uqHqqe/3F2AXA/qvb8HfsGzEBbyvxIU3C+XXfW/g5JoGHaZtT/eZ5D0oS/KvzjPcGIBSgXA2MAuShZp9r+GBuEI+JEDwINTqL3WU+y/YXyJVgIoAsA1zYP1Gwn8vxDejF7aRwHAsKVPvIsu7j8psFIVBDwAwPgGdPX6vP6/whkSnmRYqj8D5la0Hv0DwGzeCnXXpea/uOaFKtaa4z+4zZ46j/b6vzlShb4O3wbALMqsMToN7T8v6CUDpgoBwIRHRezP1Pa/MvJqR92LBsCgNwcdYmTNP9xm4C0qCe4/IDNnrbmX7r9fRZkmsfr+v/D5Z2gChuo/A+5yyWfPB8BJoOJdGkH9v73zIhZeyaS/lXITRBtJlb9R7jSuDSoFwCAKQUK8RO4/aA+OiJU83b89GKfCPlTJvxBLCQM2n8C/4ZDGFM+EzT8/y0UuOcmzP+42F4x71sS/RtxvzrZOoL8xORJXBUUAwInLoe/13f6/Bke9KP1m+L/2DRh2gx2Bv48RAb8Iav+/lzgSJI3S+79pUC7DVezZv5zDKZDVVO6/oSoyG7DYA8BguNX5O9PkP/nM/fUnBgfA9j1bX+e5779f6vj0x6jdvzX2e5qZU+m/CORCmoZl7T8cu1NTFDziP0Be8l4Hhe2/kzed1zVeAMAzQULgCMnuv6+08xVcg8O/qvR9lCn5BsCuqZae/9D0v0tx8eBInQTA3Nic/ZkN978SZFrZlbbmv6CHdI5c29o/pSGAoCRnAMC+CZTCGEP/vz9xOFFKoqQ/COsKb9fxhb97QlSGP5EHwOBkPAv0fts/FOIY6H8TAcDAFiDgH9vQP9Zbq1+GIQTAI7VdUIRzvD8qkd/kcbv3vw2B/chjtQHAn540PJXYsT/dU6p/nQ0FwJ3eFdob9AXA2cDwJ6f917+Nu+gmjq3qv/BSmVze5t+/MIX7+JrP2b9rOT/8WjTxv30tuIFvOQfAkHXYPfv92L/eqQGetWgFwC8Lx6XV8gLAESL1QRT54b8w8yOy79XjP8QNM1bSnus/3Om5nZB85T/WQE1yJ6j3v2qIehDe4fC/8Zg+kxOQB8ATC7AFnnL+v/nz4O8xlAXA50emzRDw1T9XtroEqvMCwC3wrB3jK/6/ctoM7lLW9L+ioGCciHfrv4ractCMMwXA+jctjEOR879Ru+pb+67HP91Y8qKh/P2/LoLKy9bYBsC/0cwZcjsCwHwqc39s3P6/omLxJa98BsCoxpm/LR3jv+yohwVL8+A/kVq+G6EP3L9dzMci2k0HwFX+cYcApPW/aRcsu9dN4b9KLsAk4lQCwA==",
            "dtype": "f8"
           }
          },
          {
           "label": "max_leaf_nodes",
           "values": {
            "bdata": "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",
            "dtype": "f8"
           }
          },
          {
           "label": "max_bins",
           "values": {
            "bdata": "Kohzv360GUATwaTtp6AXQFJzOl8g9BxAtN7P0QCuEECVk1aNT2YaQAAAAAAAAPA/Ql0GfOqsC0AAAAAAAADwPwAAAAAAABBAcaN5CU+TAkBovZ+jAVwJQN9M6kwSNxlAtN7P0QCuDEAAAAAAAAAAQBYCqj+7OhtAztDZHCJuFUD7HeumdS0YQHGjeQlPkwJAAAAAAAAA8D+hLgM+ddYdQAAAAAAAAAhAWu/naABXHkAAAAAAAAAIQLTez9EArgRAJoJJ209BD0BovZ+jAVz5PxnxyBFAzRJADs63OgEFE0BAE8i14P0QQPsd66Z1LRRAcfGRqLuREUCu/mc1E7kXQKEuAz511hFAAAAAAAAAAEC03s/RAK4MQDPikSOAmg1AtN7P0QCuDEBovZ+jAVz5PwAAAAAAAABAGfHIEUDNGkC03s/RAK4QQGi9n6MBXPk/Io4yZ23vHUA75k92zKYfQAAAAAAAAABAbbCMVqj3FUAmgknbT0EPQG2wjFao9xVAcaN5CU+TEkAZ8cgRQM0WQLTez9EArgRAcaN5CU+TAkB+in7irEMcQFum6pGSbhtAHniBXmHCGEChLgM+ddYZQHHxkai7kRFAtN7P0QCuFEAAAAAAAADwP2i9n6MBXPk/LQRUf3Z1BkB04LB6QCQVQFum6pGSbhNAtN7P0QCuEEBxo3kJT5MCQAAAAAAAAAhAmgKwHuFUF0C6H8xPtaMcQCaCSdtPQQ9ABfanYDejGUBAE8i14P0QQEATyLXg/RRAaL2fowFcCUC03s/RAK4MQLnRvISnSRVAcaN5CU+TAkDqwMn6Y+kWQHGjeQlPkxZAKnU2jvbcH0BcqbqM5o4cQHGjeQlPkxpAAAAAAAAAAEAAAAAAAADwP1um6pGSbhtAcaN5CU+TAkDlZ70OrV4eQHGjeQlPkxJAtN7P0QCuBEBxo3kJT5MCQLnRvISnSRFAaL2fowFcCUChLgM+ddYRQFXHGqAgGBJAz9NmxGKEFEAAAAAAAAAYQHHxkai7kRFAeGdpx2EZH0AtBFR/dnUOQAAAAAAAAPA/CzRclNOHG0BovZ+jAVz5P2WnbfF61hRATCTr249ZEECmE9NEkLAWQC0EVH92dQZAaL2fowFc+T+03s/RAK4UQHGjeQlPkwJAAAAAAAAAAED7HeumdS0UQAAAAAAAABRAQBPIteD9FEAAAAAAAADwPwAAAAAAABhACzRclNOHG0Az4pEjgJoNQLTez9EArhhAz9NmxGKEFEBxo3kJT5MKQEATyLXg/RBA30zqTBI3HUC1ldL6ksUdQMOshwwCsx9A0sKFlucWHEBAE8i14P0QQG2wjFao9xlADZnXJMhhG0CvtgIJIW8YQBnxyBFAzR5AAAAAAAAAAEBlp23xetYYQGgmqqM5IhxAAAAAAAAA8D9lp23xetYYQA7OtzoBBRNAy+B5EbzoG0Ba7+doAFcWQAs0XJTThx9AaL2fowFc+T8AAAAAAAAAQLTez9EArgxAAAAAAAAAAEChLgM+ddYVQBYCqj+7OhNALQRUf3Z1BkAeeIFeYcIYQAjuT54TEB5AqDxUPxkoGkAAAAAAAAAIQDPikSOAmg1AcaN5CU+TAkBxo3kJT5MWQMefdL+oThxAZadt8XrWFEAtBFR/dnUaQHHxkai7kRlAaL2fowFc+T8AAAAAAADwP/sd66Z1LRRAcaN5CU+TCkBovZ+jAVz5PxYCqj+7OhtAtN7P0QCuDEDqwMn6Y+kWQAAAAAAAAPA/FgKqP7s6G0AAAAAAAADwPwAAAAAAAABAAAAAAAAAAEAAAAAAAAAAQBnxyBFAzRJAmgKwHuFUF0AAAAAAAAAAQEwk69uPWRBAaL2fowFc+T8AAAAAAAAQQAAAAAAAAABAAAAAAAAA8D8tBFR/dnUOQFum6pGSbhdABfanYDejHUBxxRNPV5kYQLTez9EArhhALQRUf3Z1BkAAAAAAAADwP/b1Hd6V7h9AAAAAAAAAAEBa7+doAFcWQAAAAAAAAABAWu/naABXFkDOz5jjQHsbQAAAAAAAAPA/Zadt8XrWGEBovZ+jAVwdQGi9n6MBXPk/iKUjSQrOHUD7HeumdS0UQJWTVo1PZhpAAAAAAAAA8D9a7+doAFcWQBPBpO2noBNAztDZHCJuFUAtBFR/dnUOQJoCsB7hVBdA0sKFlucWGEC03s/RAK4MQOrAyfpj6R5ACzRclNOHG0AHHylbwBodQC0EVH92dR5AbbCMVqj3FUD18ZeH4asdQAAAAAAAAPA/LQRUf3Z1BkBAE8i14P0UQDPikSOAmg1AAAAAAAAACEAZ8cgRQM0SQJoCsB7hVBdAaL2fowFc+T8AAAAAAADwPwAAAAAAAPA/aL2fowFc+T9xo3kJT5MeQGi9n6MBXPk/VQ3TD3aEHkBNdR6qJucZQB8V4TACoh5AtN7P0QCuEEACutIj5jcWQBYCqj+7OhNAtN7P0QCuDEBovZ+jAVz5P8u0+7dX8B5AtN7P0QCuDEBMJOvbj1kQQGi9n6MBXAlAKohzv360GUAAAAAAAADwP2i9n6MBXAlADs63OgEFF0AAAAAAAAAAQGi9n6MBXPk/oS4DPnXWFUCaArAe4VQbQLTez9EArgRAtN7P0QCuDEDqwMn6Y+kaQKEuAz511hFAbbCMVqj3GUD55IQ6iEcaQEATyLXg/RRAAAAAAAAA8D8mgknbT0EPQHGjeQlPkxJAAAAAAAAA8D8AAAAAAADwP3GjeQlPkwJALQRUf3Z1FkBovZ+jAVwJQC0EVH92dQ5AaL2fowFc+T+03s/RAK4MQAAAAAAAAABA0sKFlucWHEC03s/RAK4cQAX2p2A3ox1AKohzv360GUBG+C7CafQbQAAAAAAAABBAtN7P0QCuBEAAAAAAAAAUQHGjeQlPkwpAaL2fowFcCUANmdckyGEbQC0EVH92dQ5AW6bqkZJuE0Az4pEjgJoNQGi9n6MBXPk/Tk1s1hjRE0DHn3S/qE4cQHGjeQlPkwpAtN7P0QCuBEBovZ+jAVz5PwAAAAAAAPA/Ds63OgEFE0C03s/RAK4EQO1S7hkFMB5A30zqTBI3HUAtBFR/dnUGQGi9n6MBXAlAlZNWjU9mGkAAAAAAAAAAQLTez9EArgxAGfHIEUDNEkCmE9NEkLAWQAK60iPmNx5AaL2fowFc+T+03s/RAK4EQEwk69uPWRxAzs+Y40B7H0Bxo3kJT5MKQHGjeQlPkwJALQRUf3Z1DkAAAAAAAADwP0wk69uPWRBAtN7P0QCuFEAmgknbT0EPQAAAAAAAAABAAAAAAAAA8D8w83JR+wcaQAEDu62QBx1AAAAAAAAAAEAF9qdgN6MZQGi9n6MBXAlADs63OgEFE0CIpSNJCs4dQAAAAAAAAPA/qDxUPxkoGkBFsLFjZEAdQLcwrX0wERlAaL2fowFcCUAEw3H+3EcfQAAAAAAAABBAdOCwekAkGUAAAAAAAADwP3Hxkai7kRFAO+ZPdsymH0ALNFyU04cfQGi9n6MBXPk/aL2fowFcCUC03s/RAK4QQGi9n6MBXPk/udG8hKdJEUAAAAAAAADwP12gJh9D9x5AtN7P0QCuEEAZ5AW6Yk4fQGi9n6MBXPk/caN5CU+TAkAAAAAAAAAIQAK60iPmNxpAaL2fowFc+T8GOeI8WFsfQPnkhDqIRxpAtN7P0QCuBEC50byEp0kZQMuSYXJP6hhAaL2fowFcCUAAAAAAAADwPy0EVH92dQZAFgKqP7s6E0AAAAAAAAAAQAAAAAAAAPA/QBPIteD9EEBCXQZ86qwbQLnRvISnSRFATk1s1hjRE0AtBFR/dnUGQG/KbrZt4BxAtN7P0QCuBEAAAAAAAAAAQAAAAAAAAPA/JoJJ209BD0DfTOpMEjcZQDbBg/75vh5AAAAAAAAAAEDL4HkRvOgbQE5NbNYY0RNAf7mwgElPHkAAAAAAAADwP2i9n6MBXPk/E8Gk7aegG0C1ldL6ksUZQEATyLXg/RBADs63OgEFG0AAAAAAAADwP2i9n6MBXAlAAAAAAAAAFEBx8ZGou5ERQGi9n6MBXAlAuh/MT7WjHEAAAAAAAAAAQHGjeQlPkwJAcqiU0U2pHkDfTOpMEjcZQLTez9EArgRADs63OgEFE0AAAAAAAAAAQEJdBnzqrAtAcaN5CU+TAkAssm3/520eQLTez9EArgxAqDxUPxkoGkBovZ+jAVz5PwAAAAAAAAhAAAAAAAAAAEAtBFR/dnUWQGWnbfF61hhAphPTRJCwGkCmE9NEkLAaQEJdBnzqrBtAtN7P0QCuEEC03s/RAK4MQMVhMVYKgBlA0sKFlucWHECaArAe4VQXQAAAAAAAABRAAAAAAAAACEAmgknbT0EPQAAAAAAAAPA/caN5CU+TEkBVxxqgIBgWQLTez9EArhxAGfHIEUDNFkCaArAe4VQXQAN5ni4PvR1AOTzStRKOH0ATwaTtp6ATQGi9n6MBXPk/FHinFjq4HEDO0NkcIm4ZQGi9n6MBXAlAAAAAAAAA8D8fURm/CtcfQCaCSdtPQQ9AAAAAAAAAAEChLgM+ddYRQA7OtzoBBR9ALQRUf3Z1BkAqiHO/frQVQHGjeQlPkxpAtN7P0QCuBEC03s/RAK4EQHGjeQlPkwJAztDZHCJuGUBxxRNPV5kYQGi9n6MBXPk/41kwRCb+HkC03s/RAK4MQFXHGqAgGB5AcaN5CU+TEkBovZ+jAVz5Py0EVH92dQZAAAAAAAAACEDFYTFWCoAZQCaCSdtPQQ9AcaN5CU+TAkAmgknbT0EfQHGjeQlPkwJAJoJJ209BD0BovZ+jAVz5PwAAAAAAAABAfop+4qxDHEBVxxqgIBgSQEATyLXg/RBAcaN5CU+TCkDqwMn6Y+kaQAAAAAAAAABAcaN5CU+TEkCaArAe4VQbQHGjeQlPkwJALQRUf3Z1BkAAAAAAAADwP6EuAz511hlAiKUjSQrOHUBtsIxWqPcVQFXHGqAgGBpAoS4DPnXWEUAAAAAAAADwP2i9n6MBXPk/caN5CU+TAkAAAAAAAAAQQHGjeQlPkxJALQRUf3Z1HkApw04tY9saQFrv52gAVxJAQl0GfOqsC0AtBFR/dnUOQEATyLXg/RRADs63OgEFE0BovZ+jAVz5Pws0XJTThxdAHxXhMAKiHkAOzrc6AQUTQKEuAz511hlALQRUf3Z1DkBovZ+jAVwJQC0EVH92dQ5AFgKqP7s6G0Az4pEjgJoNQAAAAAAAAAhATCTr249ZFEAAAAAAAADwP0JdBnzqrAtAVccaoCAYGkAtBFR/dnUGQAAAAAAAABBAGeQFumJOH0BAE8i14P0QQA==",
            "dtype": "f8"
           }
          },
          {
           "label": "min_samples_leaf",
           "values": {
            "bdata": "/qd3c53m6D8AAAAAAAAAAAAAAAAAAPA/gGDmsFoX+T/91U+WJ4nePwAAAAAAAAAAAAAAAAAAAABTIAMTwZ79P08SvEO20vE/AAAAAAAAAAAAAAAAAAAAAAAAAAAAAAAAf5t3fA5z/j9O5nf9BEb+PwAAAAAAAAAAbbB4Kx/u/z9/WMckGBX4P2/FUGCLqfA/l31LNeuv8z8AAAAAAAAAAJd9SzXrr/M/P8x4CwsL6z//eZ9QE0TTPwAAAAAAAAAAboKgCJVL+j9Pzwvsv3T7P/427/gc5vw//3mfUBNE0z9/DAD3jnP6PwAAAAAAAAAAz/DjF7uj9j//eZ9QE0TTPwAAAAAAAAAAEMH7VcZ19D/P8OMXu6P2P+7wQOtoVfw/AAAAAAAAAAAAAAAAAAAAAP95n1ATRPM/kLaPOxAY/D//eZ9QE0TjPwAAAAAAAPA//jbv+Bzm7D9TIAMTwZ79P/95n1ATRNM/AAAAAAAAAABPErxDttLxPwFDsFf2XeY//dVPlieJ3j+Qto87EBj8P4DeJ9QE0fQ/HlHkUBnK/D//18P0p5r6P/95n1ATROM/kJ8jKstG+T9+yU+fmBX0P/6nd3Od5ug/f1jHJBgV+D+OKw3mEC/+P/3VT5Ynid4/AAAAAAAAAAB+yU+fmBX0P8/w4xe7o/Y/2OopRvue/j//eZ9QE0TTP/95n1ATRNM/AAAAAAAAAABPErxDttLxPwAAAAAAAAAAb8VQYIup8D+QnyMqy0b5P2/FUGCLqfA/n0TkWYpW8j9+yU+fmBX0PwAAAAAAAAAAAAAAAAAAAAAAAAAAAAAAAH/1k+VJovc//3mfUBNE4z8AAAAAAAAAAG6JkTmuXP4/l31LNeuv8z+QnyMqy0b5P/427/gc5uw//dVPlieJ3j8AF2wRRdHyPz/MeAsLC+s/gN4n1ATR9D//eZ9QE0TjP//Xw/Snmvo/AAAAAAAAAAD/07u5TnP8P/AbXwS2kPw/AAAAAAAAAABPErxDttLxPwAAAAAAAAAAAAAAAAAAAABmRoDooq38P+pja3H7Zfc/EMH7VcZ19D9/suONU0TxP/6+44Tit/s/kLaPOxAY/D//07u5TnP8P58BNAKU+Ps/AAAAAAAAAAAAAAAAAAAAAAAAAAAAAAAAAAAAAAAAAAD+Nu/4HObsP2/FUGCLqfA/AAAAAAAAAAAAAAAAAAAAAP95n1ATROM/bpkMGtoc/T9umQwa2hz9P/95n1ATRNM/EMH7VcZ19D8AF2wRRdHyPwAAAAAAAAAA/dVPlieJ7j/+p3dzneb4P07md/0ERv4/AAAAAAAAAAAAAAAAAAAAAAAAAAAAAAAA/3mfUBNE4z+QnyMqy0b5P/5NWwpit/8/AAAAAAAAAAAXnyNh5t7+PwAAAAAAAAAA/k1bCmK3/z8AAAAAAAAAAP95n1ATROM/f5t3fA5z/j/uuuRF1Uv4P38MAPeOc/o/AUOwV/Zd5j8QwftVxnX0P/95n1ATRNM/fuC7sN3m9j//eZ9QE0TzP//Xw/Snmvo/f/WT5Umi9z+QnyMqy0b5P+665EXVS/g/AUOwV/Zd9j9mRoDooq38PwAAAAAAAAAA/dVPlieJ3j9Pzwvsv3T7PwAAAAAAAAAAAAAAAAAAAAD/18P0p5r6PwAAAAAAAAAA6mNrcftl9z/91U+WJ4neP/95n1ATROM/AAAAAAAAAACfRORZilbyP08SvEO20vE/n0TkWYpW8j8/zHgLCwvrPz/MeAsLC+s//3mfUBNE0z//eZ9QE0TTP4DeJ9QE0fQ/AAAAAAAAAAD/eZ9QE0TTP39YxyQYFfg/7qN4NJB69T8BQ7BX9l3mPwAAAAAAAAAAjisN5hAv/j9TIAMTwZ79P566+K7pwPo/n1tQa88n9T9ktKGhK9D9P/95n1ATROM//qd3c53m6D+A3ifUBNH0PwAAAAAAAAAA/3mfUBNE4z8BQ7BX9l3mP3+y441TRPE/AAAAAAAAAAABQ7BX9l3mP3/1k+VJovc/AUOwV/Zd5j9/tuvIrGv/P2S0oaEr0P0//3mfUBNE4z8AAAAAAAAAAP95n1ATROM/f7LjjVNE8T+A3ifUBNH0P8/w4xe7o/Y/gCHYK/su+z8AAAAAAAAAAP95n1ATRNM/AAAAAAAAAAAAAAAAAADwP39YxyQYFfg//3mfUBNE0z/+p3dzneboPwAAAAAAAAAA/3mfUBNE4z//eZ9QE0TTPwAAAAAAAAAAAAAAAAAAAAB/suONU0TxP6YGW5OzMP8/AAAAAAAAAACfRORZilbyP/95n1ATRNM//qd3c53m6D/uuuRF1Uv4P59E5FmKVvI//7xPqAmi+T8BQ7BX9l3mPwAAAAAAAAAAAUOwV/Zd5j/91U+WJ4nuP+6jeDSQevU//dVPlieJ3j//eZ9QE0TTP/95n1ATRPM/TuZ3/QRG/j//eZ9QE0TTP2pCk0UAN/w/f/WT5Umi9z8BQ7BX9l3mP/95n1ATROM/P8x4CwsL6z/uuuRF1Uv4P3/1k+VJovc/AD8OhV/o/T/+Nu/4HObsP/95n1ATRNM/oIeUsYC0+D9PErxDttLxPwAAAAAAAAAA/3mfUBNE4z8fIwwujyf3P37JT5+YFfQ//7xPqAmi+T+AYOawWhf5Pz/MeAsLC+s/7vBA62hV/D/91U+WJ4neP5d9SzXrr/M/P8x4CwsL6z/91U+WJ4nePwAAAAAAAPA/f/mbIKPJ9T8/zHgLCwvrP59E5FmKVvI//3mfUBNE0z8AF2wRRdHyPwAAAAAAAPA//qd3c53m6D//eZ9QE0TjP37JT5+YFfQ//3mfUBNE0z8AAAAAAAAAAH5vMzZd5vo/AAAAAAAAAABveHjJO1j/P/95n1ATRNM/EMH7VcZ19D+QnyMqy0b5PwAAAAAAAAAAAAAAAAAAAAAAAAAAAAAAAH/1k+VJovc/f7LjjVNE8T8BQ7BX9l3mP22weCsf7v8/9TC80a8i+j9/m3d8DnP+P5CfIyrLRvk/AAAAAAAAAAD/eZ9QE0TTPx8jDC6PJ/c//qd3c53m+D/uuuRF1Uv4PwAAAAAAAPA//qd3c53m6D8eUeRQGcr8PwAAAAAAAAAA/dVPlieJ3j8AAAAAAADwPwAAAAAAAAAAABdsEUXR8j+OKw3mEC/+PxZz3xo1Uvs/fslPn5gV9D9ugqAIlUv6P4DeJ9QE0fQ/gGDmsFoX+T8BQ7BX9l3mP8/w4xe7o/Y/AUOwV/Zd5j8AAAAAAAAAAIA4RD1AAP4/AAAAAAAAAABO5nf9BEb+P/95n1ATRNM/fslPn5gV9D/91U+WJ4nePwAXbBFF0fI/AAAAAAAAAAAAF2wRRdHyPwFDsFf2XeY//dVPlieJ3j/PM5RvsQH9PwAAAAAAAAAA/7xPqAmi+T8BQ7BX9l3mPwAAAAAAAAAAABdsEUXR8j8BQ7BX9l32PwAAAAAAAAAAP8x4CwsL6z//18P0p5r6P/95n1ATRNM/AUOwV/Zd5j8/zHgLCwv7P/95n1ATRNM/P8x4CwsL6z/+kAtiWBX2P/95n1ATRNM/ABdsEUXR8j8BQ7BX9l3mP26CoAiVS/o//3mfUBNE4z+AOEQ9QAD+P566+K7pwPo/n0TkWYpW8j8AAAAAAAAAAP95n1ATRNM/zgdQKQB1+T8AF2wRRdHyPwAAAAAAAAAAF1xzCfCA+D/91U+WJ4n+Pz/MeAsLC+s/P8x4CwsL6z8AAAAAAADwP26ZDBraHP0//u4vBu1r/T8AAAAAAAAAAAAAAAAAAAAALmVaNpo3/T9/m3d8DnP+P3+y441TRPE/lzqb3fRR/T8AAAAAAADwPwAXbBFF0fI/AUOwV/Zd5j//eZ9QE0TjP2ZGgOiirfw/F1xzCfCA+D8AAAAAAAAAAP6QC2JYFfY//3mfUBNE0z8AAAAAAADwPwAAAAAAAAAAF1xzCfCA+D/91U+WJ4neP8/w4xe7o/Y/b8VQYIup8D8AAAAAAAAAAFgMAnL2zfk/AAAAAAAAAAB/DAD3jnP6P/95n1ATRNM/AAAAAAAAAAD/eZ9QE0TTP/3VT5Ynie4/AAAAAAAAAAAAAAAAAAAAAD/MeAsLC/s/n0TkWYpW8j8AAAAAAAAAAG/FUGCLqfA/f7LjjVNE8T9/DAD3jnP6P3+y441TRPE/AAAAAAAAAAAAAAAAAAAAAAAAAAAAAAAA/3mfUBNE0z8/zHgLCwvrP39YxyQYFfg//3mfUBNE0z//eZ9QE0TTPyBmvIWFhf0//+ony5NE/z/91U+WJ4nePwAAAAAAAAAAAAAAAAAA8D/1MLzRryL6P/6+44Tit/s/oIeUsYC0+D/Y6ilG+57+P/6+44Tit/s/nhigE9nJ/j8fIwwujyf3P5Hi04HBpP8//3mfUBNE0z9/suONU0TxPwAAAAAAAAAA/3mfUBNE8z9+yU+fmBX0P/6nd3Od5vg/AAAAAAAAAAAQwftVxnX0P/95n1ATROM//dVPlieJ3j//07u5TnP8P3+y441TRPE/AAAAAAAAAACmBluTszD/Px86eD/U+Pk/b8VQYIup8D+A3ifUBNH0P/95n1ATROM/AAAAAAAAAAAAAAAAAAAAAP6nd3Od5ug//dVPlieJ3j8AAAAAAAAAAM8zlG+xAf0//3mfUBNE0z9vxVBgi6nwP44rDeYQL/4/Q3pTS6KW+z/91U+WJ4nePwAAAAAAAAAA/3mfUBNE4z//eZ9QE0TTP26ZDBraHP0/AUOwV/Zd5j/ZmtM6i7T+P3+y441TRPE/EMH7VcZ19D//eZ9QE0TTP+/mKIyG2Ps//3mfUBNE0z//eZ9QE0TTP+ZnWBSe3Pc//dVPlieJ3j8AAAAAAAAAAAAAAAAAAAAAAAAAAAAAAAAAAAAAAADwP2pCk0UAN/w//dVPlieJ3j8AAAAAAAAAAAAAAAAAAAAAkLaPOxAY/D/PM5RvsQH9P/3VT5Ynid4/z/DjF7uj9j9/+Zsgo8n1PwAAAAAAAAAAAAAAAAAAAAAAAAAAAAAAAD/MeAsLC/s//jbv+Bzm7D/91U+WJ4nePwAAAAAAAAAAgDhEPUAA/j/P8OMXu6P2P3/1k+VJovc/f/mbIKPJ9T8AAAAAAAAAAAAAAAAAAAAAfoafR6K3/T9/m3d8DnP+P/3VT5Ynid4//3mfUBNE0z/+p3dzneb4Pz/MeAsLC+s/bbB4Kx/u/z/+p3dzneboPwAAAAAAAAAAb8VQYIup8D//eZ9QE0TjP59bUGvPJ/U/oIeUsYC0+D//eZ9QE0TTP/95n1ATROM//3mfUBNE4z8AAAAAAAAAAD/MeAsLC+s/AUOwV/Zd5j8QwftVxnX0Pw==",
            "dtype": "f8"
           }
          },
          {
           "label": "l2_regularization",
           "values": {
            "bdata": "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",
            "dtype": "f8"
           }
          },
          {
           "label": "mean_test_score",
           "values": {
            "bdata": "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",
            "dtype": "f8"
           }
          }
         ],
         "domain": {
          "x": [
           0,
           1
          ],
          "y": [
           0,
           1
          ]
         },
         "line": {
          "color": {
           "bdata": "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",
           "dtype": "f8"
          },
          "coloraxis": "coloraxis"
         },
         "name": "",
         "type": "parcoords"
        }
       ],
       "layout": {
        "coloraxis": {
         "colorbar": {
          "title": {
           "text": "mean_test_score"
          }
         },
         "colorscale": [
          [
           0,
           "#440154"
          ],
          [
           0.1111111111111111,
           "#482878"
          ],
          [
           0.2222222222222222,
           "#3e4989"
          ],
          [
           0.3333333333333333,
           "#31688e"
          ],
          [
           0.4444444444444444,
           "#26828e"
          ],
          [
           0.5555555555555556,
           "#1f9e89"
          ],
          [
           0.6666666666666666,
           "#35b779"
          ],
          [
           0.7777777777777778,
           "#6ece58"
          ],
          [
           0.8888888888888888,
           "#b5de2b"
          ],
          [
           1,
           "#fde725"
          ]
         ]
        },
        "legend": {
         "tracegroupgap": 0
        },
        "margin": {
         "t": 60
        },
        "template": {
         "data": {
          "bar": [
           {
            "error_x": {
             "color": "#2a3f5f"
            },
            "error_y": {
             "color": "#2a3f5f"
            },
            "marker": {
             "line": {
              "color": "#E5ECF6",
              "width": 0.5
             },
             "pattern": {
              "fillmode": "overlay",
              "size": 10,
              "solidity": 0.2
             }
            },
            "type": "bar"
           }
          ],
          "barpolar": [
           {
            "marker": {
             "line": {
              "color": "#E5ECF6",
              "width": 0.5
             },
             "pattern": {
              "fillmode": "overlay",
              "size": 10,
              "solidity": 0.2
             }
            },
            "type": "barpolar"
           }
          ],
          "carpet": [
           {
            "aaxis": {
             "endlinecolor": "#2a3f5f",
             "gridcolor": "white",
             "linecolor": "white",
             "minorgridcolor": "white",
             "startlinecolor": "#2a3f5f"
            },
            "baxis": {
             "endlinecolor": "#2a3f5f",
             "gridcolor": "white",
             "linecolor": "white",
             "minorgridcolor": "white",
             "startlinecolor": "#2a3f5f"
            },
            "type": "carpet"
           }
          ],
          "choropleth": [
           {
            "colorbar": {
             "outlinewidth": 0,
             "ticks": ""
            },
            "type": "choropleth"
           }
          ],
          "contour": [
           {
            "colorbar": {
             "outlinewidth": 0,
             "ticks": ""
            },
            "colorscale": [
             [
              0,
              "#0d0887"
             ],
             [
              0.1111111111111111,
              "#46039f"
             ],
             [
              0.2222222222222222,
              "#7201a8"
             ],
             [
              0.3333333333333333,
              "#9c179e"
             ],
             [
              0.4444444444444444,
              "#bd3786"
             ],
             [
              0.5555555555555556,
              "#d8576b"
             ],
             [
              0.6666666666666666,
              "#ed7953"
             ],
             [
              0.7777777777777778,
              "#fb9f3a"
             ],
             [
              0.8888888888888888,
              "#fdca26"
             ],
             [
              1,
              "#f0f921"
             ]
            ],
            "type": "contour"
           }
          ],
          "contourcarpet": [
           {
            "colorbar": {
             "outlinewidth": 0,
             "ticks": ""
            },
            "type": "contourcarpet"
           }
          ],
          "heatmap": [
           {
            "colorbar": {
             "outlinewidth": 0,
             "ticks": ""
            },
            "colorscale": [
             [
              0,
              "#0d0887"
             ],
             [
              0.1111111111111111,
              "#46039f"
             ],
             [
              0.2222222222222222,
              "#7201a8"
             ],
             [
              0.3333333333333333,
              "#9c179e"
             ],
             [
              0.4444444444444444,
              "#bd3786"
             ],
             [
              0.5555555555555556,
              "#d8576b"
             ],
             [
              0.6666666666666666,
              "#ed7953"
             ],
             [
              0.7777777777777778,
              "#fb9f3a"
             ],
             [
              0.8888888888888888,
              "#fdca26"
             ],
             [
              1,
              "#f0f921"
             ]
            ],
            "type": "heatmap"
           }
          ],
          "histogram": [
           {
            "marker": {
             "pattern": {
              "fillmode": "overlay",
              "size": 10,
              "solidity": 0.2
             }
            },
            "type": "histogram"
           }
          ],
          "histogram2d": [
           {
            "colorbar": {
             "outlinewidth": 0,
             "ticks": ""
            },
            "colorscale": [
             [
              0,
              "#0d0887"
             ],
             [
              0.1111111111111111,
              "#46039f"
             ],
             [
              0.2222222222222222,
              "#7201a8"
             ],
             [
              0.3333333333333333,
              "#9c179e"
             ],
             [
              0.4444444444444444,
              "#bd3786"
             ],
             [
              0.5555555555555556,
              "#d8576b"
             ],
             [
              0.6666666666666666,
              "#ed7953"
             ],
             [
              0.7777777777777778,
              "#fb9f3a"
             ],
             [
              0.8888888888888888,
              "#fdca26"
             ],
             [
              1,
              "#f0f921"
             ]
            ],
            "type": "histogram2d"
           }
          ],
          "histogram2dcontour": [
           {
            "colorbar": {
             "outlinewidth": 0,
             "ticks": ""
            },
            "colorscale": [
             [
              0,
              "#0d0887"
             ],
             [
              0.1111111111111111,
              "#46039f"
             ],
             [
              0.2222222222222222,
              "#7201a8"
             ],
             [
              0.3333333333333333,
              "#9c179e"
             ],
             [
              0.4444444444444444,
              "#bd3786"
             ],
             [
              0.5555555555555556,
              "#d8576b"
             ],
             [
              0.6666666666666666,
              "#ed7953"
             ],
             [
              0.7777777777777778,
              "#fb9f3a"
             ],
             [
              0.8888888888888888,
              "#fdca26"
             ],
             [
              1,
              "#f0f921"
             ]
            ],
            "type": "histogram2dcontour"
           }
          ],
          "mesh3d": [
           {
            "colorbar": {
             "outlinewidth": 0,
             "ticks": ""
            },
            "type": "mesh3d"
           }
          ],
          "parcoords": [
           {
            "line": {
             "colorbar": {
              "outlinewidth": 0,
              "ticks": ""
             }
            },
            "type": "parcoords"
           }
          ],
          "pie": [
           {
            "automargin": true,
            "type": "pie"
           }
          ],
          "scatter": [
           {
            "fillpattern": {
             "fillmode": "overlay",
             "size": 10,
             "solidity": 0.2
            },
            "type": "scatter"
           }
          ],
          "scatter3d": [
           {
            "line": {
             "colorbar": {
              "outlinewidth": 0,
              "ticks": ""
             }
            },
            "marker": {
             "colorbar": {
              "outlinewidth": 0,
              "ticks": ""
             }
            },
            "type": "scatter3d"
           }
          ],
          "scattercarpet": [
           {
            "marker": {
             "colorbar": {
              "outlinewidth": 0,
              "ticks": ""
             }
            },
            "type": "scattercarpet"
           }
          ],
          "scattergeo": [
           {
            "marker": {
             "colorbar": {
              "outlinewidth": 0,
              "ticks": ""
             }
            },
            "type": "scattergeo"
           }
          ],
          "scattergl": [
           {
            "marker": {
             "colorbar": {
              "outlinewidth": 0,
              "ticks": ""
             }
            },
            "type": "scattergl"
           }
          ],
          "scattermap": [
           {
            "marker": {
             "colorbar": {
              "outlinewidth": 0,
              "ticks": ""
             }
            },
            "type": "scattermap"
           }
          ],
          "scattermapbox": [
           {
            "marker": {
             "colorbar": {
              "outlinewidth": 0,
              "ticks": ""
             }
            },
            "type": "scattermapbox"
           }
          ],
          "scatterpolar": [
           {
            "marker": {
             "colorbar": {
              "outlinewidth": 0,
              "ticks": ""
             }
            },
            "type": "scatterpolar"
           }
          ],
          "scatterpolargl": [
           {
            "marker": {
             "colorbar": {
              "outlinewidth": 0,
              "ticks": ""
             }
            },
            "type": "scatterpolargl"
           }
          ],
          "scatterternary": [
           {
            "marker": {
             "colorbar": {
              "outlinewidth": 0,
              "ticks": ""
             }
            },
            "type": "scatterternary"
           }
          ],
          "surface": [
           {
            "colorbar": {
             "outlinewidth": 0,
             "ticks": ""
            },
            "colorscale": [
             [
              0,
              "#0d0887"
             ],
             [
              0.1111111111111111,
              "#46039f"
             ],
             [
              0.2222222222222222,
              "#7201a8"
             ],
             [
              0.3333333333333333,
              "#9c179e"
             ],
             [
              0.4444444444444444,
              "#bd3786"
             ],
             [
              0.5555555555555556,
              "#d8576b"
             ],
             [
              0.6666666666666666,
              "#ed7953"
             ],
             [
              0.7777777777777778,
              "#fb9f3a"
             ],
             [
              0.8888888888888888,
              "#fdca26"
             ],
             [
              1,
              "#f0f921"
             ]
            ],
            "type": "surface"
           }
          ],
          "table": [
           {
            "cells": {
             "fill": {
              "color": "#EBF0F8"
             },
             "line": {
              "color": "white"
             }
            },
            "header": {
             "fill": {
              "color": "#C8D4E3"
             },
             "line": {
              "color": "white"
             }
            },
            "type": "table"
           }
          ]
         },
         "layout": {
          "annotationdefaults": {
           "arrowcolor": "#2a3f5f",
           "arrowhead": 0,
           "arrowwidth": 1
          },
          "autotypenumbers": "strict",
          "coloraxis": {
           "colorbar": {
            "outlinewidth": 0,
            "ticks": ""
           }
          },
          "colorscale": {
           "diverging": [
            [
             0,
             "#8e0152"
            ],
            [
             0.1,
             "#c51b7d"
            ],
            [
             0.2,
             "#de77ae"
            ],
            [
             0.3,
             "#f1b6da"
            ],
            [
             0.4,
             "#fde0ef"
            ],
            [
             0.5,
             "#f7f7f7"
            ],
            [
             0.6,
             "#e6f5d0"
            ],
            [
             0.7,
             "#b8e186"
            ],
            [
             0.8,
             "#7fbc41"
            ],
            [
             0.9,
             "#4d9221"
            ],
            [
             1,
             "#276419"
            ]
           ],
           "sequential": [
            [
             0,
             "#0d0887"
            ],
            [
             0.1111111111111111,
             "#46039f"
            ],
            [
             0.2222222222222222,
             "#7201a8"
            ],
            [
             0.3333333333333333,
             "#9c179e"
            ],
            [
             0.4444444444444444,
             "#bd3786"
            ],
            [
             0.5555555555555556,
             "#d8576b"
            ],
            [
             0.6666666666666666,
             "#ed7953"
            ],
            [
             0.7777777777777778,
             "#fb9f3a"
            ],
            [
             0.8888888888888888,
             "#fdca26"
            ],
            [
             1,
             "#f0f921"
            ]
           ],
           "sequentialminus": [
            [
             0,
             "#0d0887"
            ],
            [
             0.1111111111111111,
             "#46039f"
            ],
            [
             0.2222222222222222,
             "#7201a8"
            ],
            [
             0.3333333333333333,
             "#9c179e"
            ],
            [
             0.4444444444444444,
             "#bd3786"
            ],
            [
             0.5555555555555556,
             "#d8576b"
            ],
            [
             0.6666666666666666,
             "#ed7953"
            ],
            [
             0.7777777777777778,
             "#fb9f3a"
            ],
            [
             0.8888888888888888,
             "#fdca26"
            ],
            [
             1,
             "#f0f921"
            ]
           ]
          },
          "colorway": [
           "#636efa",
           "#EF553B",
           "#00cc96",
           "#ab63fa",
           "#FFA15A",
           "#19d3f3",
           "#FF6692",
           "#B6E880",
           "#FF97FF",
           "#FECB52"
          ],
          "font": {
           "color": "#2a3f5f"
          },
          "geo": {
           "bgcolor": "white",
           "lakecolor": "white",
           "landcolor": "#E5ECF6",
           "showlakes": true,
           "showland": true,
           "subunitcolor": "white"
          },
          "hoverlabel": {
           "align": "left"
          },
          "hovermode": "closest",
          "mapbox": {
           "style": "light"
          },
          "paper_bgcolor": "white",
          "plot_bgcolor": "#E5ECF6",
          "polar": {
           "angularaxis": {
            "gridcolor": "white",
            "linecolor": "white",
            "ticks": ""
           },
           "bgcolor": "#E5ECF6",
           "radialaxis": {
            "gridcolor": "white",
            "linecolor": "white",
            "ticks": ""
           }
          },
          "scene": {
           "xaxis": {
            "backgroundcolor": "#E5ECF6",
            "gridcolor": "white",
            "gridwidth": 2,
            "linecolor": "white",
            "showbackground": true,
            "ticks": "",
            "zerolinecolor": "white"
           },
           "yaxis": {
            "backgroundcolor": "#E5ECF6",
            "gridcolor": "white",
            "gridwidth": 2,
            "linecolor": "white",
            "showbackground": true,
            "ticks": "",
            "zerolinecolor": "white"
           },
           "zaxis": {
            "backgroundcolor": "#E5ECF6",
            "gridcolor": "white",
            "gridwidth": 2,
            "linecolor": "white",
            "showbackground": true,
            "ticks": "",
            "zerolinecolor": "white"
           }
          },
          "shapedefaults": {
           "line": {
            "color": "#2a3f5f"
           }
          },
          "ternary": {
           "aaxis": {
            "gridcolor": "white",
            "linecolor": "white",
            "ticks": ""
           },
           "baxis": {
            "gridcolor": "white",
            "linecolor": "white",
            "ticks": ""
           },
           "bgcolor": "#E5ECF6",
           "caxis": {
            "gridcolor": "white",
            "linecolor": "white",
            "ticks": ""
           }
          },
          "title": {
           "x": 0.05
          },
          "xaxis": {
           "automargin": true,
           "gridcolor": "white",
           "linecolor": "white",
           "ticks": "",
           "title": {
            "standoff": 15
           },
           "zerolinecolor": "white",
           "zerolinewidth": 2
          },
          "yaxis": {
           "automargin": true,
           "gridcolor": "white",
           "linecolor": "white",
           "ticks": "",
           "title": {
            "standoff": 15
           },
           "zerolinecolor": "white",
           "zerolinewidth": 2
          }
         }
        }
       }
      }
     },
     "metadata": {},
     "output_type": "display_data"
    }
   ],
   "source": [
    "import numpy as np\n",
    "import pandas as pd\n",
    "import plotly.express as px\n",
    "def shorten_param(param_name):\n",
    "    if \"__\" in param_name:\n",
    "        return param_name.rsplit(\"__\", 1)[1]\n",
    "    return param_name\n",
    "cv_results = pd.read_csv(\"../figures/randomized_search_results.csv\",\n",
    "                         index_col=0)\n",
    "\n",
    "fig = px.parallel_coordinates(\n",
    "    cv_results.rename(shorten_param, axis=1).apply({\n",
    "        \"learning_rate\": np.log10,\n",
    "        \"max_leaf_nodes\": np.log2,\n",
    "        \"max_bins\": np.log2,\n",
    "        \"min_samples_leaf\": np.log10,\n",
    "        \"l2_regularization\": np.log10,\n",
    "        \"mean_test_score\": lambda x: x}),\n",
    "    color=\"mean_test_score\",\n",
    "    color_continuous_scale=px.colors.sequential.Viridis,\n",
    ")\n",
    "fig.show()"
   ]
  },
  {
   "cell_type": "code",
   "execution_count": null,
   "id": "ad34038a",
   "metadata": {},
   "outputs": [],
   "source": []
  }
 ],
 "metadata": {
  "jupytext": {
   "main_language": "python"
  },
  "kernelspec": {
   "display_name": "mlmooc",
   "language": "python",
   "name": "python3"
  },
  "language_info": {
   "codemirror_mode": {
    "name": "ipython",
    "version": 3
   },
   "file_extension": ".py",
   "mimetype": "text/x-python",
   "name": "python",
   "nbconvert_exporter": "python",
   "pygments_lexer": "ipython3",
   "version": "3.13.2"
  }
 },
 "nbformat": 4,
 "nbformat_minor": 5
}
