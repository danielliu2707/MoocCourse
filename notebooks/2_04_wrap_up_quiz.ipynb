{
 "cells": [
  {
   "cell_type": "markdown",
   "id": "f923e273",
   "metadata": {},
   "source": [
    "# Module 2: Wrap up quiz"
   ]
  },
  {
   "cell_type": "code",
   "execution_count": null,
   "id": "733b7dfc",
   "metadata": {},
   "outputs": [
    {
     "data": {
      "text/html": [
       "<div>\n",
       "<style scoped>\n",
       "    .dataframe tbody tr th:only-of-type {\n",
       "        vertical-align: middle;\n",
       "    }\n",
       "\n",
       "    .dataframe tbody tr th {\n",
       "        vertical-align: top;\n",
       "    }\n",
       "\n",
       "    .dataframe thead th {\n",
       "        text-align: right;\n",
       "    }\n",
       "</style>\n",
       "<table border=\"1\" class=\"dataframe\">\n",
       "  <thead>\n",
       "    <tr style=\"text-align: right;\">\n",
       "      <th></th>\n",
       "      <th>Recency</th>\n",
       "      <th>Frequency</th>\n",
       "      <th>Monetary</th>\n",
       "      <th>Time</th>\n",
       "    </tr>\n",
       "  </thead>\n",
       "  <tbody>\n",
       "    <tr>\n",
       "      <th>0</th>\n",
       "      <td>2</td>\n",
       "      <td>50</td>\n",
       "      <td>12500</td>\n",
       "      <td>98</td>\n",
       "    </tr>\n",
       "    <tr>\n",
       "      <th>1</th>\n",
       "      <td>0</td>\n",
       "      <td>13</td>\n",
       "      <td>3250</td>\n",
       "      <td>28</td>\n",
       "    </tr>\n",
       "    <tr>\n",
       "      <th>2</th>\n",
       "      <td>1</td>\n",
       "      <td>16</td>\n",
       "      <td>4000</td>\n",
       "      <td>35</td>\n",
       "    </tr>\n",
       "    <tr>\n",
       "      <th>3</th>\n",
       "      <td>2</td>\n",
       "      <td>20</td>\n",
       "      <td>5000</td>\n",
       "      <td>45</td>\n",
       "    </tr>\n",
       "    <tr>\n",
       "      <th>4</th>\n",
       "      <td>1</td>\n",
       "      <td>24</td>\n",
       "      <td>6000</td>\n",
       "      <td>77</td>\n",
       "    </tr>\n",
       "  </tbody>\n",
       "</table>\n",
       "</div>"
      ],
      "text/plain": [
       "   Recency  Frequency  Monetary  Time\n",
       "0        2         50     12500    98\n",
       "1        0         13      3250    28\n",
       "2        1         16      4000    35\n",
       "3        2         20      5000    45\n",
       "4        1         24      6000    77"
      ]
     },
     "execution_count": 6,
     "metadata": {},
     "output_type": "execute_result"
    }
   ],
   "source": [
    "# load dataset\n",
    "import pandas as pd\n",
    "\n",
    "blood_transfusion = pd.read_csv(\"../datasets/blood_transfusion.csv\")\n",
    "target_name = \"Class\"\n",
    "data = blood_transfusion.drop(columns=target_name)\n",
    "target = blood_transfusion[target_name]\n",
    "\n",
    "data.head() # all numeric\n"
   ]
  },
  {
   "cell_type": "code",
   "execution_count": 5,
   "id": "6fc30d6d",
   "metadata": {},
   "outputs": [
    {
     "name": "stdout",
     "output_type": "stream",
     "text": [
      "Class\n",
      "not donated    570\n",
      "donated        178\n",
      "Name: count, dtype: int64\n",
      "['donated' 'not donated']\n"
     ]
    }
   ],
   "source": [
    "# q1\n",
    "print(target.value_counts())\n",
    "\n",
    "print(target.unique())"
   ]
  },
  {
   "cell_type": "code",
   "execution_count": 12,
   "id": "b790a4ac",
   "metadata": {},
   "outputs": [
    {
     "name": "stdout",
     "output_type": "stream",
     "text": [
      "The average accuracy score is 0.762\n"
     ]
    }
   ],
   "source": [
    "# q2\n",
    "from sklearn.dummy import DummyClassifier\n",
    "from sklearn.model_selection import cross_validate, KFold\n",
    "\n",
    "model = DummyClassifier(strategy=\"most_frequent\")\n",
    "cv = KFold(n_splits=10)\n",
    "cv_results = cross_validate(model, data, target, cv=cv)\n",
    "score = cv_results['test_score']\n",
    "print(f\"The average accuracy score is {score.mean():.3f}\")"
   ]
  },
  {
   "cell_type": "code",
   "execution_count": 14,
   "id": "02496655",
   "metadata": {},
   "outputs": [
    {
     "data": {
      "text/plain": [
       "np.float64(0.7624144144144143)"
      ]
     },
     "execution_count": 14,
     "metadata": {},
     "output_type": "execute_result"
    }
   ],
   "source": [
    "# q2\n",
    "from sklearn.dummy import DummyClassifier\n",
    "from sklearn.model_selection import cross_val_score, KFold\n",
    "\n",
    "model = DummyClassifier(strategy=\"most_frequent\")\n",
    "cv = KFold(n_splits=10)\n",
    "scores = cross_val_score(model, data, target, cv=cv)\n",
    "scores.mean()"
   ]
  },
  {
   "cell_type": "code",
   "execution_count": 15,
   "id": "9a201065",
   "metadata": {},
   "outputs": [
    {
     "data": {
      "text/plain": [
       "np.float64(0.5)"
      ]
     },
     "execution_count": 15,
     "metadata": {},
     "output_type": "execute_result"
    }
   ],
   "source": [
    "# q3\n",
    "\n",
    "from sklearn.dummy import DummyClassifier\n",
    "from sklearn.model_selection import cross_val_score, KFold\n",
    "\n",
    "model = DummyClassifier(strategy=\"most_frequent\")\n",
    "cv = KFold(n_splits=10)\n",
    "scores = cross_val_score(model, data, target, cv=cv, scoring=\"balanced_accuracy\")\n",
    "scores.mean()"
   ]
  },
  {
   "cell_type": "code",
   "execution_count": null,
   "id": "bc315d2f",
   "metadata": {},
   "outputs": [
    {
     "data": {
      "text/plain": [
       "{'memory': None,\n",
       " 'steps': [('columntransformer',\n",
       "   ColumnTransformer(transformers=[('numerical-preprocessor', StandardScaler(),\n",
       "                                    ['Recency', 'Frequency', 'Monetary', 'Time'])])),\n",
       "  ('kneighborsclassifier', KNeighborsClassifier())],\n",
       " 'transform_input': None,\n",
       " 'verbose': False,\n",
       " 'columntransformer': ColumnTransformer(transformers=[('numerical-preprocessor', StandardScaler(),\n",
       "                                  ['Recency', 'Frequency', 'Monetary', 'Time'])]),\n",
       " 'kneighborsclassifier': KNeighborsClassifier(),\n",
       " 'columntransformer__force_int_remainder_cols': True,\n",
       " 'columntransformer__n_jobs': None,\n",
       " 'columntransformer__remainder': 'drop',\n",
       " 'columntransformer__sparse_threshold': 0.3,\n",
       " 'columntransformer__transformer_weights': None,\n",
       " 'columntransformer__transformers': [('numerical-preprocessor',\n",
       "   StandardScaler(),\n",
       "   ['Recency', 'Frequency', 'Monetary', 'Time'])],\n",
       " 'columntransformer__verbose': False,\n",
       " 'columntransformer__verbose_feature_names_out': True,\n",
       " 'columntransformer__numerical-preprocessor': StandardScaler(),\n",
       " 'columntransformer__numerical-preprocessor__copy': True,\n",
       " 'columntransformer__numerical-preprocessor__with_mean': True,\n",
       " 'columntransformer__numerical-preprocessor__with_std': True,\n",
       " 'kneighborsclassifier__algorithm': 'auto',\n",
       " 'kneighborsclassifier__leaf_size': 30,\n",
       " 'kneighborsclassifier__metric': 'minkowski',\n",
       " 'kneighborsclassifier__metric_params': None,\n",
       " 'kneighborsclassifier__n_jobs': None,\n",
       " 'kneighborsclassifier__n_neighbors': 5,\n",
       " 'kneighborsclassifier__p': 2,\n",
       " 'kneighborsclassifier__weights': 'uniform'}"
      ]
     },
     "execution_count": 19,
     "metadata": {},
     "output_type": "execute_result"
    }
   ],
   "source": [
    "# q5\n",
    "from sklearn.pipeline import make_pipeline\n",
    "from sklearn.preprocessing import StandardScaler\n",
    "from sklearn.neighbors import KNeighborsClassifier\n",
    "from sklearn.compose import ColumnTransformer\n",
    "from sklearn.compose import make_column_selector as selector\n",
    "\n",
    "blood_transfusion = pd.read_csv(\"../datasets/blood_transfusion.csv\")\n",
    "target_name = \"Class\"\n",
    "data = blood_transfusion.drop(columns=target_name)\n",
    "target = blood_transfusion[target_name]\n",
    "\n",
    "# select numeric columns (redunant in this case)\n",
    "numerical_column_selector = selector(dtype_exclude=object)\n",
    "numerical_columns = numerical_column_selector(data)\n",
    "\n",
    "# define transformers\n",
    "numerical_preprocessor = StandardScaler()\n",
    "\n",
    "# define column transformers\n",
    "preprocessor = ColumnTransformer(\n",
    "    [\n",
    "        (\"numerical-preprocessor\", numerical_preprocessor, numerical_columns)\n",
    "    ]\n",
    ")\n",
    "\n",
    "# make pipeline\n",
    "model = make_pipeline(preprocessor, KNeighborsClassifier())\n",
    "\n",
    "# get number of parameters in model\n",
    "model.get_params()"
   ]
  },
  {
   "cell_type": "code",
   "execution_count": null,
   "id": "2ba7ed67",
   "metadata": {},
   "outputs": [
    {
     "name": "stdout",
     "output_type": "stream",
     "text": [
      "0.49936646973636867\n",
      "0.8809857083403031\n"
     ]
    }
   ],
   "source": [
    "# q6\n",
    "from sklearn.pipeline import make_pipeline\n",
    "from sklearn.preprocessing import StandardScaler\n",
    "from sklearn.neighbors import KNeighborsClassifier\n",
    "from sklearn.compose import ColumnTransformer\n",
    "from sklearn.compose import make_column_selector as selector\n",
    "from sklearn.model_selection import cross_validate, KFold\n",
    "\n",
    "blood_transfusion = pd.read_csv(\"../datasets/blood_transfusion.csv\")\n",
    "target_name = \"Class\"\n",
    "data = blood_transfusion.drop(columns=target_name)\n",
    "target = blood_transfusion[target_name]\n",
    "\n",
    "# select numeric columns (redunant in this case)\n",
    "numerical_column_selector = selector(dtype_exclude=object)\n",
    "numerical_columns = numerical_column_selector(data)\n",
    "\n",
    "# define transformers\n",
    "numerical_preprocessor = StandardScaler()\n",
    "\n",
    "# define column transformers\n",
    "preprocessor = ColumnTransformer(\n",
    "    [\n",
    "        (\"numerical-preprocessor\", numerical_preprocessor, numerical_columns)\n",
    "    ]\n",
    ")\n",
    "\n",
    "# make pipeline\n",
    "model = make_pipeline(preprocessor, KNeighborsClassifier(n_neighbors=1))\n",
    "\n",
    "# evaluate using 10-fold cv\n",
    "cv = KFold(n_splits=10)\n",
    "cv_result = cross_validate(model, data, target, cv=cv, scoring=\"balanced_accuracy\", return_train_score=True)\n",
    "test_score = cv_result['test_score']\n",
    "train_score = cv_result['train_score']\n",
    "\n",
    "# model clearly overfits - train_score is much higher than test_score (not equal)\n",
    "print(test_score.mean())\n",
    "print(train_score.mean())\n"
   ]
  },
  {
   "cell_type": "code",
   "execution_count": null,
   "id": "817ac583",
   "metadata": {},
   "outputs": [
    {
     "data": {
      "image/png": "[encoded data removed]",
      "text/plain": [
       "<Figure size 640x480 with 1 Axes>"
      ]
     },
     "metadata": {},
     "output_type": "display_data"
    }
   ],
   "source": [
    "# q7\n",
    "import numpy as np\n",
    "from sklearn.model_selection import ValidationCurveDisplay\n",
    "\n",
    "# define n_neighbors hypereparam values to test\n",
    "param_range = np.array([1, 2, 5, 10, 20, 50, 100, 200, 500])\n",
    "\n",
    "# plotting distribution of train & test errors to visualise overfitting vs underfitting\n",
    "disp = ValidationCurveDisplay.from_estimator(\n",
    "    model,\n",
    "    data,\n",
    "    target,\n",
    "    param_name=\"kneighborsclassifier__n_neighbors\",   # acutal name of model param found using model.get_params()\n",
    "    param_range=param_range,\n",
    "    cv=5,   # 5-fold cv\n",
    "    scoring=\"balanced_accuracy\",\n",
    "    std_display_style=\"errorbar\",\n",
    "    n_jobs=2\n",
    ")\n"
   ]
  },
  {
   "cell_type": "code",
   "execution_count": null,
   "id": "61fd5b9a",
   "metadata": {},
   "outputs": [],
   "source": []
  }
 ],
 "metadata": {
  "kernelspec": {
   "display_name": "mlmooc",
   "language": "python",
   "name": "python3"
  },
  "language_info": {
   "codemirror_mode": {
    "name": "ipython",
    "version": 3
   },
   "file_extension": ".py",
   "mimetype": "text/x-python",
   "name": "python",
   "nbconvert_exporter": "python",
   "pygments_lexer": "ipython3",
   "version": "3.13.2"
  }
 },
 "nbformat": 4,
 "nbformat_minor": 5
}
