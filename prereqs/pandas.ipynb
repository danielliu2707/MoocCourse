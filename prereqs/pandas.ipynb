{
 "cells": [
  {
   "cell_type": "markdown",
   "metadata": {},
   "source": [
    "# 10 minutes to pandas"
   ]
  },
  {
   "cell_type": "code",
   "execution_count": 1,
   "metadata": {},
   "outputs": [],
   "source": [
    "import pandas as pd\n",
    "import numpy as np"
   ]
  },
  {
   "cell_type": "markdown",
   "metadata": {},
   "source": [
    "### Data Structures:"
   ]
  },
  {
   "cell_type": "markdown",
   "metadata": {},
   "source": [
    "Pandas provides two types of classes for handling data:\n",
    "\n",
    "Series: a one-dimensional labeled array holding data of any type\n",
    "such as integers, strings, Python objects etc.\n",
    "\n",
    "DataFrame: a two-dimensional data structure that holds data like a two-dimension array or a table with rows and columns.\n",
    "\n"
   ]
  },
  {
   "cell_type": "markdown",
   "metadata": {},
   "source": [
    "### Object Creation"
   ]
  },
  {
   "cell_type": "code",
   "execution_count": 3,
   "metadata": {},
   "outputs": [
    {
     "data": {
      "text/plain": [
       "0    1.0\n",
       "1    3.0\n",
       "2    5.0\n",
       "3    NaN\n",
       "4    6.0\n",
       "5    8.0\n",
       "dtype: float64"
      ]
     },
     "execution_count": 3,
     "metadata": {},
     "output_type": "execute_result"
    }
   ],
   "source": [
    "# Creating series:\n",
    "s = pd.Series([1, 3, 5, np.nan, 6, 8])\n",
    "s"
   ]
  },
  {
   "cell_type": "code",
   "execution_count": 10,
   "metadata": {},
   "outputs": [
    {
     "name": "stdout",
     "output_type": "stream",
     "text": [
      "DatetimeIndex(['2013-01-01', '2013-01-02', '2013-01-03', '2013-01-04',\n",
      "               '2013-01-05', '2013-01-06'],\n",
      "              dtype='datetime64[ns]', freq='D')\n"
     ]
    },
    {
     "data": {
      "text/html": [
       "<div>\n",
       "<style scoped>\n",
       "    .dataframe tbody tr th:only-of-type {\n",
       "        vertical-align: middle;\n",
       "    }\n",
       "\n",
       "    .dataframe tbody tr th {\n",
       "        vertical-align: top;\n",
       "    }\n",
       "\n",
       "    .dataframe thead th {\n",
       "        text-align: right;\n",
       "    }\n",
       "</style>\n",
       "<table border=\"1\" class=\"dataframe\">\n",
       "  <thead>\n",
       "    <tr style=\"text-align: right;\">\n",
       "      <th></th>\n",
       "      <th>A</th>\n",
       "      <th>B</th>\n",
       "      <th>C</th>\n",
       "      <th>D</th>\n",
       "    </tr>\n",
       "  </thead>\n",
       "  <tbody>\n",
       "    <tr>\n",
       "      <th>2013-01-01</th>\n",
       "      <td>0.497515</td>\n",
       "      <td>0.226525</td>\n",
       "      <td>-0.493950</td>\n",
       "      <td>0.862077</td>\n",
       "    </tr>\n",
       "    <tr>\n",
       "      <th>2013-01-02</th>\n",
       "      <td>0.182634</td>\n",
       "      <td>-1.678348</td>\n",
       "      <td>0.938700</td>\n",
       "      <td>1.491466</td>\n",
       "    </tr>\n",
       "    <tr>\n",
       "      <th>2013-01-03</th>\n",
       "      <td>-2.117637</td>\n",
       "      <td>0.666068</td>\n",
       "      <td>-2.267840</td>\n",
       "      <td>0.119374</td>\n",
       "    </tr>\n",
       "    <tr>\n",
       "      <th>2013-01-04</th>\n",
       "      <td>1.483779</td>\n",
       "      <td>0.257980</td>\n",
       "      <td>-1.763533</td>\n",
       "      <td>0.365092</td>\n",
       "    </tr>\n",
       "    <tr>\n",
       "      <th>2013-01-05</th>\n",
       "      <td>-0.683755</td>\n",
       "      <td>-0.025133</td>\n",
       "      <td>-0.770858</td>\n",
       "      <td>1.572680</td>\n",
       "    </tr>\n",
       "    <tr>\n",
       "      <th>2013-01-06</th>\n",
       "      <td>-0.912124</td>\n",
       "      <td>-0.055087</td>\n",
       "      <td>-1.265351</td>\n",
       "      <td>0.020260</td>\n",
       "    </tr>\n",
       "  </tbody>\n",
       "</table>\n",
       "</div>"
      ],
      "text/plain": [
       "                   A         B         C         D\n",
       "2013-01-01  0.497515  0.226525 -0.493950  0.862077\n",
       "2013-01-02  0.182634 -1.678348  0.938700  1.491466\n",
       "2013-01-03 -2.117637  0.666068 -2.267840  0.119374\n",
       "2013-01-04  1.483779  0.257980 -1.763533  0.365092\n",
       "2013-01-05 -0.683755 -0.025133 -0.770858  1.572680\n",
       "2013-01-06 -0.912124 -0.055087 -1.265351  0.020260"
      ]
     },
     "execution_count": 10,
     "metadata": {},
     "output_type": "execute_result"
    }
   ],
   "source": [
    "# Creating df by passing in np array:\n",
    "dates = pd.date_range(\"20130101\", periods=6)\n",
    "print(dates)\n",
    "\n",
    "df = pd.DataFrame(np.random.randn(6, 4), index=dates, columns=list(\"ABCD\"))\n",
    "df"
   ]
  },
  {
   "cell_type": "code",
   "execution_count": 11,
   "metadata": {},
   "outputs": [
    {
     "data": {
      "text/html": [
       "<div>\n",
       "<style scoped>\n",
       "    .dataframe tbody tr th:only-of-type {\n",
       "        vertical-align: middle;\n",
       "    }\n",
       "\n",
       "    .dataframe tbody tr th {\n",
       "        vertical-align: top;\n",
       "    }\n",
       "\n",
       "    .dataframe thead th {\n",
       "        text-align: right;\n",
       "    }\n",
       "</style>\n",
       "<table border=\"1\" class=\"dataframe\">\n",
       "  <thead>\n",
       "    <tr style=\"text-align: right;\">\n",
       "      <th></th>\n",
       "      <th>A</th>\n",
       "      <th>B</th>\n",
       "      <th>C</th>\n",
       "      <th>D</th>\n",
       "      <th>E</th>\n",
       "      <th>F</th>\n",
       "    </tr>\n",
       "  </thead>\n",
       "  <tbody>\n",
       "    <tr>\n",
       "      <th>0</th>\n",
       "      <td>1.0</td>\n",
       "      <td>2013-01-02</td>\n",
       "      <td>1.0</td>\n",
       "      <td>3</td>\n",
       "      <td>test</td>\n",
       "      <td>foo</td>\n",
       "    </tr>\n",
       "    <tr>\n",
       "      <th>1</th>\n",
       "      <td>1.0</td>\n",
       "      <td>2013-01-02</td>\n",
       "      <td>1.0</td>\n",
       "      <td>3</td>\n",
       "      <td>train</td>\n",
       "      <td>foo</td>\n",
       "    </tr>\n",
       "    <tr>\n",
       "      <th>2</th>\n",
       "      <td>1.0</td>\n",
       "      <td>2013-01-02</td>\n",
       "      <td>1.0</td>\n",
       "      <td>3</td>\n",
       "      <td>test</td>\n",
       "      <td>foo</td>\n",
       "    </tr>\n",
       "    <tr>\n",
       "      <th>3</th>\n",
       "      <td>1.0</td>\n",
       "      <td>2013-01-02</td>\n",
       "      <td>1.0</td>\n",
       "      <td>3</td>\n",
       "      <td>train</td>\n",
       "      <td>foo</td>\n",
       "    </tr>\n",
       "  </tbody>\n",
       "</table>\n",
       "</div>"
      ],
      "text/plain": [
       "     A          B    C  D      E    F\n",
       "0  1.0 2013-01-02  1.0  3   test  foo\n",
       "1  1.0 2013-01-02  1.0  3  train  foo\n",
       "2  1.0 2013-01-02  1.0  3   test  foo\n",
       "3  1.0 2013-01-02  1.0  3  train  foo"
      ]
     },
     "execution_count": 11,
     "metadata": {},
     "output_type": "execute_result"
    }
   ],
   "source": [
    "# Creating df by passing in a dict of objects:\n",
    "df2 = pd.DataFrame(\n",
    "    {\n",
    "        \"A\": 1.0,\n",
    "        \"B\": pd.Timestamp(\"20130102\"),\n",
    "        \"C\": pd.Series(1, index=list(range(4)), dtype=\"float32\"),\n",
    "        \"D\": np.array([3] * 4, dtype=\"int32\"),\n",
    "        \"E\": pd.Categorical([\"test\", \"train\", \"test\", \"train\"]),\n",
    "        \"F\": \"foo\", \n",
    "    }\n",
    ")\n",
    "df2"
   ]
  },
  {
   "cell_type": "code",
   "execution_count": 12,
   "metadata": {},
   "outputs": [
    {
     "data": {
      "text/plain": [
       "A          float64\n",
       "B    datetime64[s]\n",
       "C          float32\n",
       "D            int32\n",
       "E         category\n",
       "F           object\n",
       "dtype: object"
      ]
     },
     "execution_count": 12,
     "metadata": {},
     "output_type": "execute_result"
    }
   ],
   "source": [
    "# Observing the datatypes of columns:\n",
    "df2.dtypes"
   ]
  },
  {
   "cell_type": "markdown",
   "metadata": {},
   "source": [
    "### Viewing Data"
   ]
  },
  {
   "cell_type": "code",
   "execution_count": 14,
   "metadata": {},
   "outputs": [
    {
     "data": {
      "text/html": [
       "<div>\n",
       "<style scoped>\n",
       "    .dataframe tbody tr th:only-of-type {\n",
       "        vertical-align: middle;\n",
       "    }\n",
       "\n",
       "    .dataframe tbody tr th {\n",
       "        vertical-align: top;\n",
       "    }\n",
       "\n",
       "    .dataframe thead th {\n",
       "        text-align: right;\n",
       "    }\n",
       "</style>\n",
       "<table border=\"1\" class=\"dataframe\">\n",
       "  <thead>\n",
       "    <tr style=\"text-align: right;\">\n",
       "      <th></th>\n",
       "      <th>A</th>\n",
       "      <th>B</th>\n",
       "      <th>C</th>\n",
       "      <th>D</th>\n",
       "    </tr>\n",
       "  </thead>\n",
       "  <tbody>\n",
       "    <tr>\n",
       "      <th>2013-01-02</th>\n",
       "      <td>0.182634</td>\n",
       "      <td>-1.678348</td>\n",
       "      <td>0.938700</td>\n",
       "      <td>1.491466</td>\n",
       "    </tr>\n",
       "    <tr>\n",
       "      <th>2013-01-03</th>\n",
       "      <td>-2.117637</td>\n",
       "      <td>0.666068</td>\n",
       "      <td>-2.267840</td>\n",
       "      <td>0.119374</td>\n",
       "    </tr>\n",
       "    <tr>\n",
       "      <th>2013-01-04</th>\n",
       "      <td>1.483779</td>\n",
       "      <td>0.257980</td>\n",
       "      <td>-1.763533</td>\n",
       "      <td>0.365092</td>\n",
       "    </tr>\n",
       "    <tr>\n",
       "      <th>2013-01-05</th>\n",
       "      <td>-0.683755</td>\n",
       "      <td>-0.025133</td>\n",
       "      <td>-0.770858</td>\n",
       "      <td>1.572680</td>\n",
       "    </tr>\n",
       "    <tr>\n",
       "      <th>2013-01-06</th>\n",
       "      <td>-0.912124</td>\n",
       "      <td>-0.055087</td>\n",
       "      <td>-1.265351</td>\n",
       "      <td>0.020260</td>\n",
       "    </tr>\n",
       "  </tbody>\n",
       "</table>\n",
       "</div>"
      ],
      "text/plain": [
       "                   A         B         C         D\n",
       "2013-01-02  0.182634 -1.678348  0.938700  1.491466\n",
       "2013-01-03 -2.117637  0.666068 -2.267840  0.119374\n",
       "2013-01-04  1.483779  0.257980 -1.763533  0.365092\n",
       "2013-01-05 -0.683755 -0.025133 -0.770858  1.572680\n",
       "2013-01-06 -0.912124 -0.055087 -1.265351  0.020260"
      ]
     },
     "execution_count": 14,
     "metadata": {},
     "output_type": "execute_result"
    }
   ],
   "source": [
    "df.head()\n",
    "df.tail()"
   ]
  },
  {
   "cell_type": "code",
   "execution_count": null,
   "metadata": {},
   "outputs": [
    {
     "name": "stdout",
     "output_type": "stream",
     "text": [
      "DatetimeIndex(['2013-01-01', '2013-01-02', '2013-01-03', '2013-01-04',\n",
      "               '2013-01-05', '2013-01-06'],\n",
      "              dtype='datetime64[ns]', freq='D')\n",
      "Index(['A', 'B', 'C', 'D'], dtype='object')\n",
      "              A         B         C         D\n",
      "count  6.000000  6.000000  6.000000  6.000000\n",
      "mean  -0.258265 -0.101333 -0.937139  0.738491\n",
      "std    1.254285  0.814914  1.122876  0.680692\n",
      "min   -2.117637 -1.678348 -2.267840  0.020260\n",
      "25%   -0.855032 -0.047598 -1.638987  0.180804\n",
      "50%   -0.250560  0.100696 -1.018105  0.613584\n",
      "75%    0.418795  0.250116 -0.563177  1.334119\n",
      "max    1.483779  0.666068  0.938700  1.572680\n",
      "                   D         C         B         A\n",
      "2013-01-01  0.862077 -0.493950  0.226525  0.497515\n",
      "2013-01-02  1.491466  0.938700 -1.678348  0.182634\n",
      "2013-01-03  0.119374 -2.267840  0.666068 -2.117637\n",
      "2013-01-04  0.365092 -1.763533  0.257980  1.483779\n",
      "2013-01-05  1.572680 -0.770858 -0.025133 -0.683755\n",
      "2013-01-06  0.020260 -1.265351 -0.055087 -0.912124\n",
      "                   A         B         C         D\n",
      "2013-01-02  0.182634 -1.678348  0.938700  1.491466\n",
      "2013-01-06 -0.912124 -0.055087 -1.265351  0.020260\n",
      "2013-01-05 -0.683755 -0.025133 -0.770858  1.572680\n",
      "2013-01-01  0.497515  0.226525 -0.493950  0.862077\n",
      "2013-01-04  1.483779  0.257980 -1.763533  0.365092\n",
      "2013-01-03 -2.117637  0.666068 -2.267840  0.119374\n"
     ]
    }
   ],
   "source": [
    "# indicies:\n",
    "print(df.index)\n",
    "\n",
    "# columns:\n",
    "print(df.columns)\n",
    "\n",
    "# summary statistics:\n",
    "print(df.describe())\n",
    "\n",
    "# sort by columns (desc alphabetical):\n",
    "print(df.sort_index(axis = 1, ascending = False))\n",
    "\n",
    "# sort by column B (asc):\n",
    "print(df.sort_values(by=\"B\"))"
   ]
  },
  {
   "cell_type": "markdown",
   "metadata": {},
   "source": [
    "### Selection\n",
    "\n",
    "While standard Python / NumPy expressions for selecting and setting are intuitive and come in handy for interactive work, for production code, we recommend the optimized pandas data access methods, DataFrame.at(), DataFrame.iat(), DataFrame.loc() and DataFrame.iloc()."
   ]
  },
  {
   "cell_type": "markdown",
   "metadata": {},
   "source": [
    "**Selection by label**"
   ]
  },
  {
   "cell_type": "code",
   "execution_count": 29,
   "metadata": {},
   "outputs": [
    {
     "name": "stdout",
     "output_type": "stream",
     "text": [
      "A    0.497515\n",
      "B    0.226525\n",
      "C   -0.493950\n",
      "D    0.862077\n",
      "Name: 2013-01-01 00:00:00, dtype: float64\n",
      "                   A         B\n",
      "2013-01-01  0.497515  0.226525\n",
      "2013-01-02  0.182634 -1.678348\n",
      "2013-01-03 -2.117637  0.666068\n",
      "2013-01-04  1.483779  0.257980\n",
      "2013-01-05 -0.683755 -0.025133\n",
      "2013-01-06 -0.912124 -0.055087\n",
      "                   A         B\n",
      "2013-01-02  0.182634 -1.678348\n",
      "2013-01-03 -2.117637  0.666068\n",
      "2013-01-04  1.483779  0.257980\n"
     ]
    },
    {
     "data": {
      "text/plain": [
       "np.float64(0.49751522987362284)"
      ]
     },
     "execution_count": 29,
     "metadata": {},
     "output_type": "execute_result"
    }
   ],
   "source": [
    "# selecting by first date\n",
    "print(df.loc[dates[0]])\n",
    "\n",
    "# selecting all rows, just columns A & B\n",
    "print(df.loc[:, [\"A\", \"B\"]])\n",
    "\n",
    "# select using label slicing\n",
    "print(df.loc[\"20130102\":\"20130104\", [\"A\", \"B\"]])\n",
    "\n",
    "# select single row & column\n",
    "df.loc[dates[0], \"A\"]"
   ]
  },
  {
   "cell_type": "markdown",
   "metadata": {},
   "source": [
    "**Selection by position**"
   ]
  },
  {
   "cell_type": "code",
   "execution_count": 37,
   "metadata": {},
   "outputs": [
    {
     "name": "stdout",
     "output_type": "stream",
     "text": [
      "A    1.483779\n",
      "B    0.257980\n",
      "C   -1.763533\n",
      "D    0.365092\n",
      "Name: 2013-01-04 00:00:00, dtype: float64\n",
      "                   A         B\n",
      "2013-01-04  1.483779  0.257980\n",
      "2013-01-05 -0.683755 -0.025133\n",
      "                   A         C\n",
      "2013-01-02  0.182634  0.938700\n",
      "2013-01-03 -2.117637 -2.267840\n",
      "2013-01-05 -0.683755 -0.770858\n",
      "                   A         B        C         D\n",
      "2013-01-02  0.182634 -1.678348  0.93870  1.491466\n",
      "2013-01-03 -2.117637  0.666068 -2.26784  0.119374\n",
      "                   B         C\n",
      "2013-01-01  0.226525 -0.493950\n",
      "2013-01-02 -1.678348  0.938700\n",
      "2013-01-03  0.666068 -2.267840\n",
      "2013-01-04  0.257980 -1.763533\n",
      "2013-01-05 -0.025133 -0.770858\n",
      "2013-01-06 -0.055087 -1.265351\n",
      "-1.678347739961592\n"
     ]
    }
   ],
   "source": [
    "# single row\n",
    "print(df.iloc[3])\n",
    "\n",
    "# row & columns using integer slices\n",
    "print(df.iloc[3:5, 0:2])\n",
    "\n",
    "# row & columns using position locations\n",
    "print(df.iloc[[1,2,4],[0,2]])\n",
    "\n",
    "# slicing just rows\n",
    "print(df.iloc[1:3, :])\n",
    "\n",
    "# slicing just cols\n",
    "print(df.iloc[:,  1:3])\n",
    "\n",
    "# geting just a value\n",
    "print(df.iat[1,1])"
   ]
  },
  {
   "cell_type": "markdown",
   "metadata": {},
   "source": [
    "**Boolean indexing (filtering)**"
   ]
  },
  {
   "cell_type": "code",
   "execution_count": 43,
   "metadata": {},
   "outputs": [
    {
     "name": "stdout",
     "output_type": "stream",
     "text": [
      "                   A         B         C         D\n",
      "2013-01-01  0.497515  0.226525 -0.493950  0.862077\n",
      "2013-01-02  0.182634 -1.678348  0.938700  1.491466\n",
      "2013-01-04  1.483779  0.257980 -1.763533  0.365092\n",
      "2013-01-01     True\n",
      "2013-01-02     True\n",
      "2013-01-03    False\n",
      "2013-01-04     True\n",
      "2013-01-05    False\n",
      "2013-01-06    False\n",
      "Freq: D, Name: A, dtype: bool\n"
     ]
    },
    {
     "data": {
      "text/html": [
       "<div>\n",
       "<style scoped>\n",
       "    .dataframe tbody tr th:only-of-type {\n",
       "        vertical-align: middle;\n",
       "    }\n",
       "\n",
       "    .dataframe tbody tr th {\n",
       "        vertical-align: top;\n",
       "    }\n",
       "\n",
       "    .dataframe thead th {\n",
       "        text-align: right;\n",
       "    }\n",
       "</style>\n",
       "<table border=\"1\" class=\"dataframe\">\n",
       "  <thead>\n",
       "    <tr style=\"text-align: right;\">\n",
       "      <th></th>\n",
       "      <th>A</th>\n",
       "      <th>B</th>\n",
       "      <th>C</th>\n",
       "      <th>D</th>\n",
       "      <th>E</th>\n",
       "    </tr>\n",
       "  </thead>\n",
       "  <tbody>\n",
       "    <tr>\n",
       "      <th>2013-01-03</th>\n",
       "      <td>-2.117637</td>\n",
       "      <td>0.666068</td>\n",
       "      <td>-2.267840</td>\n",
       "      <td>0.119374</td>\n",
       "      <td>two</td>\n",
       "    </tr>\n",
       "    <tr>\n",
       "      <th>2013-01-05</th>\n",
       "      <td>-0.683755</td>\n",
       "      <td>-0.025133</td>\n",
       "      <td>-0.770858</td>\n",
       "      <td>1.572680</td>\n",
       "      <td>four</td>\n",
       "    </tr>\n",
       "  </tbody>\n",
       "</table>\n",
       "</div>"
      ],
      "text/plain": [
       "                   A         B         C         D     E\n",
       "2013-01-03 -2.117637  0.666068 -2.267840  0.119374   two\n",
       "2013-01-05 -0.683755 -0.025133 -0.770858  1.572680  four"
      ]
     },
     "execution_count": 43,
     "metadata": {},
     "output_type": "execute_result"
    }
   ],
   "source": [
    "# rows where df.A > 0\n",
    "print(df.loc[df[\"A\"] > 0])\n",
    "\n",
    "# note: it keeps only rows that are True\n",
    "print(df[\"A\"] > 0)\n",
    "\n",
    "# use .isin() to filter for rows where E = two or E = four\n",
    "df2 = df.copy()\n",
    "df2[\"E\"] = [\"one\", \"one\", \"two\", \"three\", \"four\", \"three\"]\n",
    "df2[df2[\"E\"].isin([\"two\", \"four\"])]"
   ]
  },
  {
   "cell_type": "markdown",
   "metadata": {},
   "source": [
    "### Missing data"
   ]
  },
  {
   "cell_type": "code",
   "execution_count": 46,
   "metadata": {},
   "outputs": [
    {
     "data": {
      "text/html": [
       "<div>\n",
       "<style scoped>\n",
       "    .dataframe tbody tr th:only-of-type {\n",
       "        vertical-align: middle;\n",
       "    }\n",
       "\n",
       "    .dataframe tbody tr th {\n",
       "        vertical-align: top;\n",
       "    }\n",
       "\n",
       "    .dataframe thead th {\n",
       "        text-align: right;\n",
       "    }\n",
       "</style>\n",
       "<table border=\"1\" class=\"dataframe\">\n",
       "  <thead>\n",
       "    <tr style=\"text-align: right;\">\n",
       "      <th></th>\n",
       "      <th>A</th>\n",
       "      <th>B</th>\n",
       "      <th>C</th>\n",
       "      <th>D</th>\n",
       "      <th>E</th>\n",
       "    </tr>\n",
       "  </thead>\n",
       "  <tbody>\n",
       "    <tr>\n",
       "      <th>2013-01-01</th>\n",
       "      <td>0.497515</td>\n",
       "      <td>0.226525</td>\n",
       "      <td>-0.493950</td>\n",
       "      <td>0.862077</td>\n",
       "      <td>1.0</td>\n",
       "    </tr>\n",
       "    <tr>\n",
       "      <th>2013-01-02</th>\n",
       "      <td>0.182634</td>\n",
       "      <td>-1.678348</td>\n",
       "      <td>0.938700</td>\n",
       "      <td>1.491466</td>\n",
       "      <td>1.0</td>\n",
       "    </tr>\n",
       "    <tr>\n",
       "      <th>2013-01-03</th>\n",
       "      <td>-2.117637</td>\n",
       "      <td>0.666068</td>\n",
       "      <td>-2.267840</td>\n",
       "      <td>0.119374</td>\n",
       "      <td>NaN</td>\n",
       "    </tr>\n",
       "    <tr>\n",
       "      <th>2013-01-04</th>\n",
       "      <td>1.483779</td>\n",
       "      <td>0.257980</td>\n",
       "      <td>-1.763533</td>\n",
       "      <td>0.365092</td>\n",
       "      <td>NaN</td>\n",
       "    </tr>\n",
       "  </tbody>\n",
       "</table>\n",
       "</div>"
      ],
      "text/plain": [
       "                   A         B         C         D    E\n",
       "2013-01-01  0.497515  0.226525 -0.493950  0.862077  1.0\n",
       "2013-01-02  0.182634 -1.678348  0.938700  1.491466  1.0\n",
       "2013-01-03 -2.117637  0.666068 -2.267840  0.119374  NaN\n",
       "2013-01-04  1.483779  0.257980 -1.763533  0.365092  NaN"
      ]
     },
     "execution_count": 46,
     "metadata": {},
     "output_type": "execute_result"
    }
   ],
   "source": [
    "# Reindexing allows you to change/add/delete the index on a specified axis. This returns a copy of the data:\n",
    "# defining new df for demonstration:\n",
    "df1 = df.reindex(index=dates[0:4], columns=list(df.columns) + [\"E\"])\n",
    "df1.loc[dates[0] : dates[1], \"E\"] = 1\n",
    "df1"
   ]
  },
  {
   "cell_type": "code",
   "execution_count": null,
   "metadata": {},
   "outputs": [
    {
     "name": "stdout",
     "output_type": "stream",
     "text": [
      "                   A         B        C         D    E\n",
      "2013-01-01  0.497515  0.226525 -0.49395  0.862077  1.0\n",
      "2013-01-02  0.182634 -1.678348  0.93870  1.491466  1.0\n",
      "                   A         B         C         D    E\n",
      "2013-01-01  0.497515  0.226525 -0.493950  0.862077  1.0\n",
      "2013-01-02  0.182634 -1.678348  0.938700  1.491466  1.0\n",
      "2013-01-03 -2.117637  0.666068 -2.267840  0.119374  5.0\n",
      "2013-01-04  1.483779  0.257980 -1.763533  0.365092  5.0\n",
      "                A      B      C      D      E\n",
      "2013-01-01  False  False  False  False  False\n",
      "2013-01-02  False  False  False  False  False\n",
      "2013-01-03  False  False  False  False   True\n",
      "2013-01-04  False  False  False  False   True\n",
      "                A      B      C      D      E\n",
      "2013-01-01  False  False  False  False  False\n",
      "2013-01-02  False  False  False  False  False\n",
      "2013-01-03  False  False  False  False   True\n",
      "2013-01-04  False  False  False  False   True\n"
     ]
    }
   ],
   "source": [
    "# drop any rows that have missing data\n",
    "print(df1.dropna(how=\"any\"))\n",
    "\n",
    "# fill missing data\n",
    "print(df1.fillna(value=5))\n",
    "\n",
    "# ask whether value .isna()\n",
    "print(df1.isna())"
   ]
  },
  {
   "cell_type": "markdown",
   "metadata": {},
   "source": [
    "### Operations\n",
    "\n",
    "Operations in general exclude missing data."
   ]
  },
  {
   "cell_type": "code",
   "execution_count": 56,
   "metadata": {},
   "outputs": [
    {
     "name": "stdout",
     "output_type": "stream",
     "text": [
      "A    0.011573\n",
      "B   -0.131944\n",
      "C   -0.896656\n",
      "D    0.709502\n",
      "E    1.000000\n",
      "dtype: float64\n",
      "2013-01-01    0.418433\n",
      "2013-01-02    0.386891\n",
      "2013-01-03   -0.900009\n",
      "2013-01-04    0.085829\n",
      "Freq: D, dtype: float64\n"
     ]
    }
   ],
   "source": [
    "# mean for each column\n",
    "print(df1.mean())\n",
    "\n",
    "# mean for each row\n",
    "print(df1.mean(axis=1))"
   ]
  },
  {
   "cell_type": "markdown",
   "metadata": {},
   "source": [
    "DataFrame.agg() and DataFrame.transform() applies a user defined function that reduces or broadcasts its result respectively.\n",
    "\n"
   ]
  },
  {
   "cell_type": "code",
   "execution_count": null,
   "metadata": {},
   "outputs": [
    {
     "name": "stdout",
     "output_type": "stream",
     "text": [
      "                   A         B         C         D\n",
      "2013-01-01  0.497515  0.226525 -0.493950  0.862077\n",
      "2013-01-02  0.182634 -1.678348  0.938700  1.491466\n",
      "2013-01-03 -2.117637  0.666068 -2.267840  0.119374\n",
      "2013-01-04  1.483779  0.257980 -1.763533  0.365092\n",
      "2013-01-05 -0.683755 -0.025133 -0.770858  1.572680\n",
      "2013-01-06 -0.912124 -0.055087 -1.265351  0.020260\n",
      "A   -1.446282\n",
      "B   -0.567462\n",
      "C   -5.247977\n",
      "D    4.135552\n",
      "dtype: float64\n",
      "\n",
      "2013-01-01    1.529033\n",
      "2013-01-02    1.308235\n",
      "2013-01-03   -5.040050\n",
      "2013-01-04    0.480645\n",
      "2013-01-05    0.130107\n",
      "2013-01-06   -3.097224\n",
      "Freq: D, dtype: float64\n"
     ]
    }
   ],
   "source": [
    "print(df)\n",
    "\n",
    "# obtain mean of each columns * 5.6 (axis = 0 means cols)\n",
    "print(df.agg(lambda x: np.mean(x) * 5.6, axis = 0))\n",
    "\n",
    "print()\n",
    "\n",
    "# obtain mean of each columns * 5.6 (axis = 0 means rows)\n",
    "print(df.agg(lambda x: np.mean(x) * 5.6, axis = 1))"
   ]
  },
  {
   "cell_type": "code",
   "execution_count": 63,
   "metadata": {},
   "outputs": [
    {
     "data": {
      "text/plain": [
       "1    5\n",
       "6    2\n",
       "4    1\n",
       "0    1\n",
       "2    1\n",
       "Name: count, dtype: int64"
      ]
     },
     "execution_count": 63,
     "metadata": {},
     "output_type": "execute_result"
    }
   ],
   "source": [
    "s = pd.Series(np.random.randint(0, 7, size=10))\n",
    "\n",
    "# value_counts\n",
    "s.value_counts()"
   ]
  },
  {
   "cell_type": "markdown",
   "metadata": {},
   "source": [
    "### String Methods\n",
    "\n",
    "`Series` is equipped with a set of string processing methods in the str attribute that make it easy to operate on each element of the array, as in the code snippet below. See more at Vectorized String Methods."
   ]
  },
  {
   "cell_type": "code",
   "execution_count": 67,
   "metadata": {},
   "outputs": [
    {
     "name": "stdout",
     "output_type": "stream",
     "text": [
      "0       a\n",
      "1       b\n",
      "2       c\n",
      "3    aaba\n",
      "4    baca\n",
      "5     NaN\n",
      "6    caba\n",
      "7     dog\n",
      "8     cat\n",
      "dtype: object\n"
     ]
    }
   ],
   "source": [
    "s = pd.Series([\"A\", \"B\", \"C\", \"Aaba\", \"Baca\", np.nan, \"CABA\", \"dog\", \"cat\"])\n",
    "\n",
    "# lowercase strings in series\n",
    "print(s.str.lower())"
   ]
  },
  {
   "cell_type": "markdown",
   "metadata": {},
   "source": [
    "### Merge"
   ]
  },
  {
   "cell_type": "markdown",
   "metadata": {},
   "source": [
    "**concat**"
   ]
  },
  {
   "cell_type": "code",
   "execution_count": null,
   "metadata": {},
   "outputs": [
    {
     "data": {
      "text/html": [
       "<div>\n",
       "<style scoped>\n",
       "    .dataframe tbody tr th:only-of-type {\n",
       "        vertical-align: middle;\n",
       "    }\n",
       "\n",
       "    .dataframe tbody tr th {\n",
       "        vertical-align: top;\n",
       "    }\n",
       "\n",
       "    .dataframe thead th {\n",
       "        text-align: right;\n",
       "    }\n",
       "</style>\n",
       "<table border=\"1\" class=\"dataframe\">\n",
       "  <thead>\n",
       "    <tr style=\"text-align: right;\">\n",
       "      <th></th>\n",
       "      <th>0</th>\n",
       "      <th>1</th>\n",
       "      <th>2</th>\n",
       "      <th>3</th>\n",
       "    </tr>\n",
       "  </thead>\n",
       "  <tbody>\n",
       "    <tr>\n",
       "      <th>0</th>\n",
       "      <td>0.967504</td>\n",
       "      <td>-0.222190</td>\n",
       "      <td>1.258392</td>\n",
       "      <td>-0.446559</td>\n",
       "    </tr>\n",
       "    <tr>\n",
       "      <th>1</th>\n",
       "      <td>-2.295918</td>\n",
       "      <td>1.175169</td>\n",
       "      <td>0.631987</td>\n",
       "      <td>1.578196</td>\n",
       "    </tr>\n",
       "    <tr>\n",
       "      <th>2</th>\n",
       "      <td>-1.362334</td>\n",
       "      <td>-0.731203</td>\n",
       "      <td>0.093932</td>\n",
       "      <td>-1.796230</td>\n",
       "    </tr>\n",
       "    <tr>\n",
       "      <th>3</th>\n",
       "      <td>-0.523967</td>\n",
       "      <td>-0.404163</td>\n",
       "      <td>-0.461698</td>\n",
       "      <td>-1.671936</td>\n",
       "    </tr>\n",
       "    <tr>\n",
       "      <th>4</th>\n",
       "      <td>-0.379785</td>\n",
       "      <td>1.081344</td>\n",
       "      <td>-0.341490</td>\n",
       "      <td>-0.496797</td>\n",
       "    </tr>\n",
       "    <tr>\n",
       "      <th>5</th>\n",
       "      <td>-0.250010</td>\n",
       "      <td>0.548817</td>\n",
       "      <td>-1.068532</td>\n",
       "      <td>-0.411181</td>\n",
       "    </tr>\n",
       "    <tr>\n",
       "      <th>6</th>\n",
       "      <td>-1.741627</td>\n",
       "      <td>0.014066</td>\n",
       "      <td>1.008420</td>\n",
       "      <td>-0.093421</td>\n",
       "    </tr>\n",
       "    <tr>\n",
       "      <th>7</th>\n",
       "      <td>1.696133</td>\n",
       "      <td>-0.872809</td>\n",
       "      <td>0.158298</td>\n",
       "      <td>-0.918889</td>\n",
       "    </tr>\n",
       "    <tr>\n",
       "      <th>8</th>\n",
       "      <td>0.483061</td>\n",
       "      <td>-0.970683</td>\n",
       "      <td>0.537155</td>\n",
       "      <td>0.385146</td>\n",
       "    </tr>\n",
       "    <tr>\n",
       "      <th>9</th>\n",
       "      <td>0.982474</td>\n",
       "      <td>-0.349198</td>\n",
       "      <td>-2.083494</td>\n",
       "      <td>-0.381319</td>\n",
       "    </tr>\n",
       "  </tbody>\n",
       "</table>\n",
       "</div>"
      ],
      "text/plain": [
       "          0         1         2         3\n",
       "0  0.967504 -0.222190  1.258392 -0.446559\n",
       "1 -2.295918  1.175169  0.631987  1.578196\n",
       "2 -1.362334 -0.731203  0.093932 -1.796230\n",
       "3 -0.523967 -0.404163 -0.461698 -1.671936\n",
       "4 -0.379785  1.081344 -0.341490 -0.496797\n",
       "5 -0.250010  0.548817 -1.068532 -0.411181\n",
       "6 -1.741627  0.014066  1.008420 -0.093421\n",
       "7  1.696133 -0.872809  0.158298 -0.918889\n",
       "8  0.483061 -0.970683  0.537155  0.385146\n",
       "9  0.982474 -0.349198 -2.083494 -0.381319"
      ]
     },
     "execution_count": 72,
     "metadata": {},
     "output_type": "execute_result"
    }
   ],
   "source": [
    "df = pd.DataFrame(np.random.randn(10, 4))\n",
    "# break it into pieces\n",
    "pieces = [df[:3],df[3:7],df[7:]]\n",
    "pd.concat(pieces)"
   ]
  },
  {
   "cell_type": "markdown",
   "metadata": {},
   "source": [
    "**join**\n",
    "\n",
    "`merge()` enables SQL style join types along specific columns. See the Database style joining section."
   ]
  },
  {
   "cell_type": "code",
   "execution_count": 74,
   "metadata": {},
   "outputs": [
    {
     "name": "stdout",
     "output_type": "stream",
     "text": [
      "   key  lval\n",
      "0  foo     1\n",
      "1  foo     2\n",
      "   key  rval\n",
      "0  foo     4\n",
      "1  foo     5\n"
     ]
    }
   ],
   "source": [
    "left = pd.DataFrame({\"key\": [\"foo\", \"foo\"], \"lval\": [1, 2]})\n",
    "right = pd.DataFrame({\"key\": [\"foo\", \"foo\"], \"rval\": [4, 5]})\n",
    "\n",
    "print(left)\n",
    "print(right)"
   ]
  },
  {
   "cell_type": "code",
   "execution_count": 75,
   "metadata": {},
   "outputs": [
    {
     "data": {
      "text/html": [
       "<div>\n",
       "<style scoped>\n",
       "    .dataframe tbody tr th:only-of-type {\n",
       "        vertical-align: middle;\n",
       "    }\n",
       "\n",
       "    .dataframe tbody tr th {\n",
       "        vertical-align: top;\n",
       "    }\n",
       "\n",
       "    .dataframe thead th {\n",
       "        text-align: right;\n",
       "    }\n",
       "</style>\n",
       "<table border=\"1\" class=\"dataframe\">\n",
       "  <thead>\n",
       "    <tr style=\"text-align: right;\">\n",
       "      <th></th>\n",
       "      <th>key</th>\n",
       "      <th>lval</th>\n",
       "      <th>rval</th>\n",
       "    </tr>\n",
       "  </thead>\n",
       "  <tbody>\n",
       "    <tr>\n",
       "      <th>0</th>\n",
       "      <td>foo</td>\n",
       "      <td>1</td>\n",
       "      <td>4</td>\n",
       "    </tr>\n",
       "    <tr>\n",
       "      <th>1</th>\n",
       "      <td>foo</td>\n",
       "      <td>1</td>\n",
       "      <td>5</td>\n",
       "    </tr>\n",
       "    <tr>\n",
       "      <th>2</th>\n",
       "      <td>foo</td>\n",
       "      <td>2</td>\n",
       "      <td>4</td>\n",
       "    </tr>\n",
       "    <tr>\n",
       "      <th>3</th>\n",
       "      <td>foo</td>\n",
       "      <td>2</td>\n",
       "      <td>5</td>\n",
       "    </tr>\n",
       "  </tbody>\n",
       "</table>\n",
       "</div>"
      ],
      "text/plain": [
       "   key  lval  rval\n",
       "0  foo     1     4\n",
       "1  foo     1     5\n",
       "2  foo     2     4\n",
       "3  foo     2     5"
      ]
     },
     "execution_count": 75,
     "metadata": {},
     "output_type": "execute_result"
    }
   ],
   "source": [
    "pd.merge(left, right, on = \"key\")"
   ]
  },
  {
   "cell_type": "markdown",
   "metadata": {},
   "source": [
    "### Grouping"
   ]
  },
  {
   "cell_type": "code",
   "execution_count": 76,
   "metadata": {},
   "outputs": [
    {
     "data": {
      "text/html": [
       "<div>\n",
       "<style scoped>\n",
       "    .dataframe tbody tr th:only-of-type {\n",
       "        vertical-align: middle;\n",
       "    }\n",
       "\n",
       "    .dataframe tbody tr th {\n",
       "        vertical-align: top;\n",
       "    }\n",
       "\n",
       "    .dataframe thead th {\n",
       "        text-align: right;\n",
       "    }\n",
       "</style>\n",
       "<table border=\"1\" class=\"dataframe\">\n",
       "  <thead>\n",
       "    <tr style=\"text-align: right;\">\n",
       "      <th></th>\n",
       "      <th>A</th>\n",
       "      <th>B</th>\n",
       "      <th>C</th>\n",
       "      <th>D</th>\n",
       "    </tr>\n",
       "  </thead>\n",
       "  <tbody>\n",
       "    <tr>\n",
       "      <th>0</th>\n",
       "      <td>foo</td>\n",
       "      <td>one</td>\n",
       "      <td>0.112645</td>\n",
       "      <td>-1.646590</td>\n",
       "    </tr>\n",
       "    <tr>\n",
       "      <th>1</th>\n",
       "      <td>bar</td>\n",
       "      <td>one</td>\n",
       "      <td>-0.429594</td>\n",
       "      <td>0.177073</td>\n",
       "    </tr>\n",
       "    <tr>\n",
       "      <th>2</th>\n",
       "      <td>foo</td>\n",
       "      <td>two</td>\n",
       "      <td>0.432912</td>\n",
       "      <td>1.042788</td>\n",
       "    </tr>\n",
       "    <tr>\n",
       "      <th>3</th>\n",
       "      <td>bar</td>\n",
       "      <td>three</td>\n",
       "      <td>2.082824</td>\n",
       "      <td>0.789077</td>\n",
       "    </tr>\n",
       "    <tr>\n",
       "      <th>4</th>\n",
       "      <td>foo</td>\n",
       "      <td>two</td>\n",
       "      <td>0.906776</td>\n",
       "      <td>-1.457188</td>\n",
       "    </tr>\n",
       "    <tr>\n",
       "      <th>5</th>\n",
       "      <td>bar</td>\n",
       "      <td>two</td>\n",
       "      <td>1.137725</td>\n",
       "      <td>0.480797</td>\n",
       "    </tr>\n",
       "    <tr>\n",
       "      <th>6</th>\n",
       "      <td>foo</td>\n",
       "      <td>one</td>\n",
       "      <td>-1.083633</td>\n",
       "      <td>-0.377667</td>\n",
       "    </tr>\n",
       "    <tr>\n",
       "      <th>7</th>\n",
       "      <td>foo</td>\n",
       "      <td>three</td>\n",
       "      <td>0.245996</td>\n",
       "      <td>0.881025</td>\n",
       "    </tr>\n",
       "  </tbody>\n",
       "</table>\n",
       "</div>"
      ],
      "text/plain": [
       "     A      B         C         D\n",
       "0  foo    one  0.112645 -1.646590\n",
       "1  bar    one -0.429594  0.177073\n",
       "2  foo    two  0.432912  1.042788\n",
       "3  bar  three  2.082824  0.789077\n",
       "4  foo    two  0.906776 -1.457188\n",
       "5  bar    two  1.137725  0.480797\n",
       "6  foo    one -1.083633 -0.377667\n",
       "7  foo  three  0.245996  0.881025"
      ]
     },
     "execution_count": 76,
     "metadata": {},
     "output_type": "execute_result"
    }
   ],
   "source": [
    "df = pd.DataFrame(\n",
    "    {\n",
    "        \"A\": [\"foo\", \"bar\", \"foo\", \"bar\", \"foo\", \"bar\", \"foo\", \"foo\"],\n",
    "        \"B\": [\"one\", \"one\", \"two\", \"three\", \"two\", \"two\", \"one\", \"three\"],\n",
    "        \"C\": np.random.randn(8),\n",
    "        \"D\": np.random.randn(8),\n",
    "    }\n",
    ")\n",
    "df"
   ]
  },
  {
   "cell_type": "code",
   "execution_count": 80,
   "metadata": {},
   "outputs": [
    {
     "data": {
      "text/html": [
       "<div>\n",
       "<style scoped>\n",
       "    .dataframe tbody tr th:only-of-type {\n",
       "        vertical-align: middle;\n",
       "    }\n",
       "\n",
       "    .dataframe tbody tr th {\n",
       "        vertical-align: top;\n",
       "    }\n",
       "\n",
       "    .dataframe thead th {\n",
       "        text-align: right;\n",
       "    }\n",
       "</style>\n",
       "<table border=\"1\" class=\"dataframe\">\n",
       "  <thead>\n",
       "    <tr style=\"text-align: right;\">\n",
       "      <th></th>\n",
       "      <th>C</th>\n",
       "      <th>D</th>\n",
       "    </tr>\n",
       "    <tr>\n",
       "      <th>A</th>\n",
       "      <th></th>\n",
       "      <th></th>\n",
       "    </tr>\n",
       "  </thead>\n",
       "  <tbody>\n",
       "    <tr>\n",
       "      <th>bar</th>\n",
       "      <td>2.790955</td>\n",
       "      <td>1.446947</td>\n",
       "    </tr>\n",
       "    <tr>\n",
       "      <th>foo</th>\n",
       "      <td>0.614696</td>\n",
       "      <td>-1.557632</td>\n",
       "    </tr>\n",
       "  </tbody>\n",
       "</table>\n",
       "</div>"
      ],
      "text/plain": [
       "            C         D\n",
       "A                      \n",
       "bar  2.790955  1.446947\n",
       "foo  0.614696 -1.557632"
      ]
     },
     "execution_count": 80,
     "metadata": {},
     "output_type": "execute_result"
    }
   ],
   "source": [
    "# apply sum across cols C & D, grouped by A\n",
    "df.groupby(\"A\")[[\"C\", \"D\"]].sum()"
   ]
  },
  {
   "cell_type": "code",
   "execution_count": 82,
   "metadata": {},
   "outputs": [
    {
     "data": {
      "text/html": [
       "<div>\n",
       "<style scoped>\n",
       "    .dataframe tbody tr th:only-of-type {\n",
       "        vertical-align: middle;\n",
       "    }\n",
       "\n",
       "    .dataframe tbody tr th {\n",
       "        vertical-align: top;\n",
       "    }\n",
       "\n",
       "    .dataframe thead th {\n",
       "        text-align: right;\n",
       "    }\n",
       "</style>\n",
       "<table border=\"1\" class=\"dataframe\">\n",
       "  <thead>\n",
       "    <tr style=\"text-align: right;\">\n",
       "      <th></th>\n",
       "      <th></th>\n",
       "      <th>C</th>\n",
       "      <th>D</th>\n",
       "    </tr>\n",
       "    <tr>\n",
       "      <th>A</th>\n",
       "      <th>B</th>\n",
       "      <th></th>\n",
       "      <th></th>\n",
       "    </tr>\n",
       "  </thead>\n",
       "  <tbody>\n",
       "    <tr>\n",
       "      <th rowspan=\"3\" valign=\"top\">bar</th>\n",
       "      <th>one</th>\n",
       "      <td>-0.429594</td>\n",
       "      <td>0.177073</td>\n",
       "    </tr>\n",
       "    <tr>\n",
       "      <th>three</th>\n",
       "      <td>2.082824</td>\n",
       "      <td>0.789077</td>\n",
       "    </tr>\n",
       "    <tr>\n",
       "      <th>two</th>\n",
       "      <td>1.137725</td>\n",
       "      <td>0.480797</td>\n",
       "    </tr>\n",
       "    <tr>\n",
       "      <th rowspan=\"3\" valign=\"top\">foo</th>\n",
       "      <th>one</th>\n",
       "      <td>-0.970988</td>\n",
       "      <td>-2.024258</td>\n",
       "    </tr>\n",
       "    <tr>\n",
       "      <th>three</th>\n",
       "      <td>0.245996</td>\n",
       "      <td>0.881025</td>\n",
       "    </tr>\n",
       "    <tr>\n",
       "      <th>two</th>\n",
       "      <td>1.339688</td>\n",
       "      <td>-0.414399</td>\n",
       "    </tr>\n",
       "  </tbody>\n",
       "</table>\n",
       "</div>"
      ],
      "text/plain": [
       "                  C         D\n",
       "A   B                        \n",
       "bar one   -0.429594  0.177073\n",
       "    three  2.082824  0.789077\n",
       "    two    1.137725  0.480797\n",
       "foo one   -0.970988 -2.024258\n",
       "    three  0.245996  0.881025\n",
       "    two    1.339688 -0.414399"
      ]
     },
     "execution_count": 82,
     "metadata": {},
     "output_type": "execute_result"
    }
   ],
   "source": [
    "# apply sum across cols C & D, grouped by A, B\n",
    "df.groupby([\"A\", \"B\"]).sum()"
   ]
  },
  {
   "cell_type": "markdown",
   "metadata": {},
   "source": [
    "### Reshaping"
   ]
  },
  {
   "cell_type": "code",
   "execution_count": null,
   "metadata": {},
   "outputs": [],
   "source": []
  },
  {
   "cell_type": "markdown",
   "metadata": {},
   "source": [
    "### Time Series"
   ]
  },
  {
   "cell_type": "markdown",
   "metadata": {},
   "source": [
    "### Categoricals"
   ]
  },
  {
   "cell_type": "code",
   "execution_count": 84,
   "metadata": {},
   "outputs": [
    {
     "data": {
      "text/plain": [
       "id            int64\n",
       "raw_grade    object\n",
       "dtype: object"
      ]
     },
     "execution_count": 84,
     "metadata": {},
     "output_type": "execute_result"
    }
   ],
   "source": [
    "df = pd.DataFrame(\n",
    "    {\"id\": [1, 2, 3, 4, 5, 6], \"raw_grade\": [\"a\", \"b\", \"b\", \"a\", \"a\", \"e\"]}\n",
    ")\n",
    "df.dtypes"
   ]
  },
  {
   "cell_type": "code",
   "execution_count": 87,
   "metadata": {},
   "outputs": [
    {
     "data": {
      "text/plain": [
       "id              int64\n",
       "raw_grade      object\n",
       "grade        category\n",
       "dtype: object"
      ]
     },
     "execution_count": 87,
     "metadata": {},
     "output_type": "execute_result"
    }
   ],
   "source": [
    "# setting raw_grade col into categorical:\n",
    "df[\"grade\"] = df[\"raw_grade\"].astype(\"category\")\n",
    "df.dtypes"
   ]
  },
  {
   "cell_type": "markdown",
   "metadata": {},
   "source": [
    "### Plotting"
   ]
  },
  {
   "cell_type": "markdown",
   "metadata": {},
   "source": [
    "### Importing & Exporting"
   ]
  },
  {
   "cell_type": "code",
   "execution_count": null,
   "metadata": {},
   "outputs": [],
   "source": []
  }
 ],
 "metadata": {
  "kernelspec": {
   "display_name": "mlmooc",
   "language": "python",
   "name": "python3"
  },
  "language_info": {
   "codemirror_mode": {
    "name": "ipython",
    "version": 3
   },
   "file_extension": ".py",
   "mimetype": "text/x-python",
   "name": "python",
   "nbconvert_exporter": "python",
   "pygments_lexer": "ipython3",
   "version": "3.13.2"
  }
 },
 "nbformat": 4,
 "nbformat_minor": 2
}
